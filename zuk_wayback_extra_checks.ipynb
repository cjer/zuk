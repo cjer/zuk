{
 "cells": [
  {
   "cell_type": "code",
   "execution_count": 27,
   "metadata": {},
   "outputs": [],
   "source": [
    "import pandas as pd"
   ]
  },
  {
   "cell_type": "code",
   "execution_count": 2,
   "metadata": {},
   "outputs": [],
   "source": [
    "ma = pd.read_pickle('data/memento_avail.pkl.gz', compression='gzip')"
   ]
  },
  {
   "cell_type": "code",
   "execution_count": 3,
   "metadata": {},
   "outputs": [],
   "source": [
    "mad = [({'original_uri': m['original_uri']}, {x['archive_id']: True for x in m['timemap_index']}) for m in ma.tolist() if m is not None]"
   ]
  },
  {
   "cell_type": "code",
   "execution_count": 4,
   "metadata": {},
   "outputs": [],
   "source": [
    "mad = [{**x, **y} for x, y in mad]"
   ]
  },
  {
   "cell_type": "code",
   "execution_count": 5,
   "metadata": {},
   "outputs": [],
   "source": [
    "mad = pd.DataFrame(mad).fillna(False).set_index('original_uri')"
   ]
  },
  {
   "cell_type": "code",
   "execution_count": 6,
   "metadata": {},
   "outputs": [
    {
     "data": {
      "text/plain": [
       "es                    0.895055\n",
       "cat                   0.895055\n",
       "webcite               0.895055\n",
       "ia                    0.895055\n",
       "si                    0.895055\n",
       "aueb                  0.895055\n",
       "is                    0.895055\n",
       "eot                   0.895055\n",
       "nrs                   0.895055\n",
       "archiveit             0.700810\n",
       "gcwa                  0.638624\n",
       "uknationalarchives    0.621596\n",
       "proni                 0.577940\n",
       "archive.is            0.518836\n",
       "swa                   0.509167\n",
       "nli                   0.496305\n",
       "loc                   0.470503\n",
       "blarchive             0.448333\n",
       "pt                    0.373263\n",
       "ba                    0.165346\n",
       "hr                    0.111612\n",
       "perma                 0.096588\n",
       "bsb                   0.015896\n",
       "wiki                  0.014764\n",
       "nara                  0.003341\n",
       "yorku                 0.000094\n",
       "git                   0.000031\n",
       "wikia                 0.000024\n",
       "archive.li            0.000016\n",
       "archive.fo            0.000016\n",
       "cs.dbpedia.org        0.000008\n",
       "fb.me                 0.000008\n",
       "archive.vn            0.000008\n",
       "archive.today         0.000008\n",
       "dtype: float64"
      ]
     },
     "execution_count": 6,
     "metadata": {},
     "output_type": "execute_result"
    }
   ],
   "source": [
    "(mad.sum(axis=0)/127200).sort_values(ascending=False)"
   ]
  },
  {
   "cell_type": "code",
   "execution_count": 7,
   "metadata": {},
   "outputs": [],
   "source": [
    "wb = pd.read_pickle('data/wb_avail_all_sources_df_FINAL.pkl.gz', compression='gzip')"
   ]
  },
  {
   "cell_type": "code",
   "execution_count": 8,
   "metadata": {},
   "outputs": [
    {
     "data": {
      "text/plain": [
       "'orientaldaily.com.my/index.php?option=com_k2&view=item&id=131282:&Itemid=197'"
      ]
     },
     "execution_count": 8,
     "metadata": {},
     "output_type": "execute_result"
    }
   ],
   "source": [
    "wb[wb.available==False].uri.iat[0]"
   ]
  },
  {
   "cell_type": "markdown",
   "metadata": {},
   "source": [
    "## CDX"
   ]
  },
  {
   "cell_type": "code",
   "execution_count": 9,
   "metadata": {},
   "outputs": [],
   "source": [
    "import requests\n",
    "from functools import wraps\n",
    "\n",
    "def retry(times):\n",
    "\n",
    "    def wrapper_fn(f):\n",
    "\n",
    "        @wraps(f)\n",
    "        def new_wrapper(*args,**kwargs):\n",
    "            for i in range(times):\n",
    "                try:\n",
    "                    #print 'try %s' % (i + 1)\n",
    "                    return f(*args,**kwargs)\n",
    "                except Exception as e:\n",
    "                    error = e\n",
    "            raise error\n",
    "\n",
    "        return new_wrapper\n",
    "\n",
    "    return wrapper_fn\n",
    "\n",
    "\n",
    "@retry(3)\n",
    "def get_cdx_avail(base_uri, uri):\n",
    "    try:\n",
    "        resp = requests.get(base_uri, params={'url': uri})\n",
    "        resp = (resp.url, resp.status_code, resp.text)\n",
    "    except:\n",
    "        resp = None\n",
    "    return resp"
   ]
  },
  {
   "cell_type": "code",
   "execution_count": 25,
   "metadata": {},
   "outputs": [],
   "source": [
    "base_uri = 'http://web.archive.org/cdx/search/cdx'\n",
    "x = get_cdx_avail(base_uri, wb[wb.available==False].uri.iat[0]+'2139023')"
   ]
  },
  {
   "cell_type": "code",
   "execution_count": 26,
   "metadata": {},
   "outputs": [
    {
     "data": {
      "text/plain": [
       "''"
      ]
     },
     "execution_count": 26,
     "metadata": {},
     "output_type": "execute_result"
    }
   ],
   "source": [
    "x[2]"
   ]
  },
  {
   "cell_type": "code",
   "execution_count": 28,
   "metadata": {},
   "outputs": [
    {
     "data": {
      "text/html": [
       "<div>\n",
       "<style scoped>\n",
       "    .dataframe tbody tr th:only-of-type {\n",
       "        vertical-align: middle;\n",
       "    }\n",
       "\n",
       "    .dataframe tbody tr th {\n",
       "        vertical-align: top;\n",
       "    }\n",
       "\n",
       "    .dataframe thead th {\n",
       "        text-align: right;\n",
       "    }\n",
       "</style>\n",
       "<table border=\"1\" class=\"dataframe\">\n",
       "  <thead>\n",
       "    <tr style=\"text-align: right;\">\n",
       "      <th></th>\n",
       "      <th>lang</th>\n",
       "      <th>source</th>\n",
       "      <th>timestamp</th>\n",
       "      <th>uri</th>\n",
       "      <th>uri_cln</th>\n",
       "      <th>tld</th>\n",
       "      <th>is_shortened</th>\n",
       "      <th>uri_unshrtn</th>\n",
       "      <th>uri_cln_unshrtn</th>\n",
       "      <th>uri_unshrtn_bitly</th>\n",
       "      <th>uri_unshrtn_raw</th>\n",
       "      <th>tld_unshrtn</th>\n",
       "    </tr>\n",
       "  </thead>\n",
       "  <tbody>\n",
       "    <tr>\n",
       "      <th>0</th>\n",
       "      <td>zh</td>\n",
       "      <td>wikipedia</td>\n",
       "      <td>2018-08-22 13:21:14</td>\n",
       "      <td>https://web.archive.org/web/20150626164255/htt...</td>\n",
       "      <td>web.archive.org/web/20150626164255/http://www....</td>\n",
       "      <td>archive.org</td>\n",
       "      <td>False</td>\n",
       "      <td>NaN</td>\n",
       "      <td>web.archive.org/web/20150626164255/http://www....</td>\n",
       "      <td>NaN</td>\n",
       "      <td>NaN</td>\n",
       "      <td>archive.org</td>\n",
       "    </tr>\n",
       "    <tr>\n",
       "      <th>1</th>\n",
       "      <td>zh</td>\n",
       "      <td>wikipedia</td>\n",
       "      <td>2018-06-25 15:15:42</td>\n",
       "      <td>https://web.archive.org/web/20140727005451/htt...</td>\n",
       "      <td>web.archive.org/web/20140727005451/http://trav...</td>\n",
       "      <td>archive.org</td>\n",
       "      <td>False</td>\n",
       "      <td>NaN</td>\n",
       "      <td>web.archive.org/web/20140727005451/http://trav...</td>\n",
       "      <td>NaN</td>\n",
       "      <td>NaN</td>\n",
       "      <td>archive.org</td>\n",
       "    </tr>\n",
       "    <tr>\n",
       "      <th>2</th>\n",
       "      <td>zh</td>\n",
       "      <td>wikipedia</td>\n",
       "      <td>2017-11-10 21:53:43</td>\n",
       "      <td>https://archive.is/20140828023420/http://www.w...</td>\n",
       "      <td>archive.is/20140828023420/http://www.worldjour...</td>\n",
       "      <td>archive.is</td>\n",
       "      <td>False</td>\n",
       "      <td>NaN</td>\n",
       "      <td>archive.is/20140828023420/http://www.worldjour...</td>\n",
       "      <td>NaN</td>\n",
       "      <td>NaN</td>\n",
       "      <td>archive.is</td>\n",
       "    </tr>\n",
       "    <tr>\n",
       "      <th>3</th>\n",
       "      <td>zh</td>\n",
       "      <td>wikipedia</td>\n",
       "      <td>2017-11-10 21:53:43</td>\n",
       "      <td>https://web.archive.org/web/20140803200140/htt...</td>\n",
       "      <td>web.archive.org/web/20140803200140/http://www....</td>\n",
       "      <td>archive.org</td>\n",
       "      <td>False</td>\n",
       "      <td>NaN</td>\n",
       "      <td>web.archive.org/web/20140803200140/http://www....</td>\n",
       "      <td>NaN</td>\n",
       "      <td>NaN</td>\n",
       "      <td>archive.org</td>\n",
       "    </tr>\n",
       "    <tr>\n",
       "      <th>4</th>\n",
       "      <td>zh</td>\n",
       "      <td>wikipedia</td>\n",
       "      <td>2017-11-10 21:53:43</td>\n",
       "      <td>https://web.archive.org/web/20140808044248/htt...</td>\n",
       "      <td>web.archive.org/web/20140808044248/http://m.al...</td>\n",
       "      <td>archive.org</td>\n",
       "      <td>False</td>\n",
       "      <td>NaN</td>\n",
       "      <td>web.archive.org/web/20140808044248/http://m.al...</td>\n",
       "      <td>NaN</td>\n",
       "      <td>NaN</td>\n",
       "      <td>archive.org</td>\n",
       "    </tr>\n",
       "  </tbody>\n",
       "</table>\n",
       "</div>"
      ],
      "text/plain": [
       "  lang     source           timestamp  \\\n",
       "0   zh  wikipedia 2018-08-22 13:21:14   \n",
       "1   zh  wikipedia 2018-06-25 15:15:42   \n",
       "2   zh  wikipedia 2017-11-10 21:53:43   \n",
       "3   zh  wikipedia 2017-11-10 21:53:43   \n",
       "4   zh  wikipedia 2017-11-10 21:53:43   \n",
       "\n",
       "                                                 uri  \\\n",
       "0  https://web.archive.org/web/20150626164255/htt...   \n",
       "1  https://web.archive.org/web/20140727005451/htt...   \n",
       "2  https://archive.is/20140828023420/http://www.w...   \n",
       "3  https://web.archive.org/web/20140803200140/htt...   \n",
       "4  https://web.archive.org/web/20140808044248/htt...   \n",
       "\n",
       "                                             uri_cln          tld  \\\n",
       "0  web.archive.org/web/20150626164255/http://www....  archive.org   \n",
       "1  web.archive.org/web/20140727005451/http://trav...  archive.org   \n",
       "2  archive.is/20140828023420/http://www.worldjour...   archive.is   \n",
       "3  web.archive.org/web/20140803200140/http://www....  archive.org   \n",
       "4  web.archive.org/web/20140808044248/http://m.al...  archive.org   \n",
       "\n",
       "   is_shortened uri_unshrtn  \\\n",
       "0         False         NaN   \n",
       "1         False         NaN   \n",
       "2         False         NaN   \n",
       "3         False         NaN   \n",
       "4         False         NaN   \n",
       "\n",
       "                                     uri_cln_unshrtn uri_unshrtn_bitly  \\\n",
       "0  web.archive.org/web/20150626164255/http://www....               NaN   \n",
       "1  web.archive.org/web/20140727005451/http://trav...               NaN   \n",
       "2  archive.is/20140828023420/http://www.worldjour...               NaN   \n",
       "3  web.archive.org/web/20140803200140/http://www....               NaN   \n",
       "4  web.archive.org/web/20140808044248/http://m.al...               NaN   \n",
       "\n",
       "  uri_unshrtn_raw  tld_unshrtn  \n",
       "0             NaN  archive.org  \n",
       "1             NaN  archive.org  \n",
       "2             NaN   archive.is  \n",
       "3             NaN  archive.org  \n",
       "4             NaN  archive.org  "
      ]
     },
     "execution_count": 28,
     "metadata": {},
     "output_type": "execute_result"
    }
   ],
   "source": [
    "df = pd.read_pickle('lang_uri_time_all.pkl.gz', compression='gzip')\n",
    "df.head()"
   ]
  },
  {
   "cell_type": "code",
   "execution_count": 29,
   "metadata": {},
   "outputs": [
    {
     "data": {
      "text/html": [
       "<div>\n",
       "<style scoped>\n",
       "    .dataframe tbody tr th:only-of-type {\n",
       "        vertical-align: middle;\n",
       "    }\n",
       "\n",
       "    .dataframe tbody tr th {\n",
       "        vertical-align: top;\n",
       "    }\n",
       "\n",
       "    .dataframe thead th {\n",
       "        text-align: right;\n",
       "    }\n",
       "</style>\n",
       "<table border=\"1\" class=\"dataframe\">\n",
       "  <thead>\n",
       "    <tr style=\"text-align: right;\">\n",
       "      <th></th>\n",
       "      <th>uri</th>\n",
       "    </tr>\n",
       "  </thead>\n",
       "  <tbody>\n",
       "    <tr>\n",
       "      <th>2</th>\n",
       "      <td>archive.is/20140828023420/http://www.worldjour...</td>\n",
       "    </tr>\n",
       "    <tr>\n",
       "      <th>8</th>\n",
       "      <td>cn.rfi.fr/%E6%94%BF%E6%B2%BB/20140720-%E8%81%9...</td>\n",
       "    </tr>\n",
       "    <tr>\n",
       "      <th>9</th>\n",
       "      <td>nymag.com/daily/intelligencer/2014/07/hamas-di...</td>\n",
       "    </tr>\n",
       "    <tr>\n",
       "      <th>10</th>\n",
       "      <td>jpost.com/Operation-Protective-Edge/50-days-of...</td>\n",
       "    </tr>\n",
       "    <tr>\n",
       "      <th>11</th>\n",
       "      <td>terrorism-info.org.il/Data/articles/Art_20774/...</td>\n",
       "    </tr>\n",
       "  </tbody>\n",
       "</table>\n",
       "</div>"
      ],
      "text/plain": [
       "                                                  uri\n",
       "2   archive.is/20140828023420/http://www.worldjour...\n",
       "8   cn.rfi.fr/%E6%94%BF%E6%B2%BB/20140720-%E8%81%9...\n",
       "9   nymag.com/daily/intelligencer/2014/07/hamas-di...\n",
       "10  jpost.com/Operation-Protective-Edge/50-days-of...\n",
       "11  terrorism-info.org.il/Data/articles/Art_20774/..."
      ]
     },
     "execution_count": 29,
     "metadata": {},
     "output_type": "execute_result"
    }
   ],
   "source": [
    "unique_uris = pd.concat([df.uri_cln, df.uri_cln_unshrtn]).drop_duplicates()\n",
    "unique_uris = unique_uris[~(unique_uris.str.contains('archive.org').fillna(False))].to_frame().rename(columns={0: 'uri'})\n",
    "unique_uris.head()"
   ]
  },
  {
   "cell_type": "code",
   "execution_count": 118,
   "metadata": {},
   "outputs": [],
   "source": [
    "from tqdm import tqdm\n",
    "\n",
    "# Register `pandas.progress_apply` and `pandas.Series.map_apply` with `tqdm`\n",
    "# (can use `tqdm_gui`, `tqdm_notebook`, optional kwargs, etc.)\n",
    "tqdm.pandas(desc=\"my bar!\")\n",
    "\n",
    "# Now you can use `progress_apply` instead of `apply`\n",
    "# and `progress_map` instead of `map`\n",
    "#df.progress_apply(lambda x: x**2)\n",
    "# can also groupby:\n",
    "# df.groupby(0).progress_apply(lambda x: x**2)"
   ]
  },
  {
   "cell_type": "code",
   "execution_count": 30,
   "metadata": {},
   "outputs": [
    {
     "name": "stderr",
     "output_type": "stream",
     "text": [
      "my bar!:  19%|█▉        | 23408/124286 [2:58:37<10:54:41,  2.57it/s] IOPub message rate exceeded.\n",
      "The notebook server will temporarily stop sending output\n",
      "to the client in order to avoid crashing it.\n",
      "To change this limit, set the config variable\n",
      "`--NotebookApp.iopub_msg_rate_limit`.\n",
      "\n",
      "Current values:\n",
      "NotebookApp.iopub_msg_rate_limit=1000.0 (msgs/sec)\n",
      "NotebookApp.rate_limit_window=3.0 (secs)\n",
      "\n",
      "my bar!:  24%|██▍       | 30136/124286 [3:48:29<10:01:41,  2.61it/s] IOPub message rate exceeded.\n",
      "The notebook server will temporarily stop sending output\n",
      "to the client in order to avoid crashing it.\n",
      "To change this limit, set the config variable\n",
      "`--NotebookApp.iopub_msg_rate_limit`.\n",
      "\n",
      "Current values:\n",
      "NotebookApp.iopub_msg_rate_limit=1000.0 (msgs/sec)\n",
      "NotebookApp.rate_limit_window=3.0 (secs)\n",
      "\n",
      "my bar!:  30%|██▉       | 36902/124286 [4:43:18<14:04:08,  1.73it/s] IOPub message rate exceeded.\n",
      "The notebook server will temporarily stop sending output\n",
      "to the client in order to avoid crashing it.\n",
      "To change this limit, set the config variable\n",
      "`--NotebookApp.iopub_msg_rate_limit`.\n",
      "\n",
      "Current values:\n",
      "NotebookApp.iopub_msg_rate_limit=1000.0 (msgs/sec)\n",
      "NotebookApp.rate_limit_window=3.0 (secs)\n",
      "\n",
      "my bar!:  35%|███▌      | 43547/124286 [5:41:06<8:55:17,  2.51it/s] IOPub message rate exceeded.\n",
      "The notebook server will temporarily stop sending output\n",
      "to the client in order to avoid crashing it.\n",
      "To change this limit, set the config variable\n",
      "`--NotebookApp.iopub_msg_rate_limit`.\n",
      "\n",
      "Current values:\n",
      "NotebookApp.iopub_msg_rate_limit=1000.0 (msgs/sec)\n",
      "NotebookApp.rate_limit_window=3.0 (secs)\n",
      "\n",
      "my bar!:  48%|████▊     | 59204/124286 [7:39:32<7:48:30,  2.32it/s] IOPub message rate exceeded.\n",
      "The notebook server will temporarily stop sending output\n",
      "to the client in order to avoid crashing it.\n",
      "To change this limit, set the config variable\n",
      "`--NotebookApp.iopub_msg_rate_limit`.\n",
      "\n",
      "Current values:\n",
      "NotebookApp.iopub_msg_rate_limit=1000.0 (msgs/sec)\n",
      "NotebookApp.rate_limit_window=3.0 (secs)\n",
      "\n",
      "my bar!:  53%|█████▎    | 65925/124286 [8:28:25<7:01:09,  2.31it/s] IOPub message rate exceeded.\n",
      "The notebook server will temporarily stop sending output\n",
      "to the client in order to avoid crashing it.\n",
      "To change this limit, set the config variable\n",
      "`--NotebookApp.iopub_msg_rate_limit`.\n",
      "\n",
      "Current values:\n",
      "NotebookApp.iopub_msg_rate_limit=1000.0 (msgs/sec)\n",
      "NotebookApp.rate_limit_window=3.0 (secs)\n",
      "\n",
      "my bar!:  58%|█████▊    | 72591/124286 [9:14:39<7:56:04,  1.81it/s] IOPub message rate exceeded.\n",
      "The notebook server will temporarily stop sending output\n",
      "to the client in order to avoid crashing it.\n",
      "To change this limit, set the config variable\n",
      "`--NotebookApp.iopub_msg_rate_limit`.\n",
      "\n",
      "Current values:\n",
      "NotebookApp.iopub_msg_rate_limit=1000.0 (msgs/sec)\n",
      "NotebookApp.rate_limit_window=3.0 (secs)\n",
      "\n",
      "my bar!:  64%|██████▍   | 79586/124286 [10:03:47<6:49:24,  1.82it/s]IOPub message rate exceeded.\n",
      "The notebook server will temporarily stop sending output\n",
      "to the client in order to avoid crashing it.\n",
      "To change this limit, set the config variable\n",
      "`--NotebookApp.iopub_msg_rate_limit`.\n",
      "\n",
      "Current values:\n",
      "NotebookApp.iopub_msg_rate_limit=1000.0 (msgs/sec)\n",
      "NotebookApp.rate_limit_window=3.0 (secs)\n",
      "\n",
      "my bar!:  70%|██████▉   | 86465/124286 [10:52:31<5:06:36,  2.06it/s] IOPub message rate exceeded.\n",
      "The notebook server will temporarily stop sending output\n",
      "to the client in order to avoid crashing it.\n",
      "To change this limit, set the config variable\n",
      "`--NotebookApp.iopub_msg_rate_limit`.\n",
      "\n",
      "Current values:\n",
      "NotebookApp.iopub_msg_rate_limit=1000.0 (msgs/sec)\n",
      "NotebookApp.rate_limit_window=3.0 (secs)\n",
      "\n",
      "my bar!:  75%|███████▌  | 93505/124286 [11:44:21<3:30:52,  2.43it/s] IOPub message rate exceeded.\n",
      "The notebook server will temporarily stop sending output\n",
      "to the client in order to avoid crashing it.\n",
      "To change this limit, set the config variable\n",
      "`--NotebookApp.iopub_msg_rate_limit`.\n",
      "\n",
      "Current values:\n",
      "NotebookApp.iopub_msg_rate_limit=1000.0 (msgs/sec)\n",
      "NotebookApp.rate_limit_window=3.0 (secs)\n",
      "\n",
      "my bar!:  81%|████████  | 100593/124286 [12:34:46<2:25:48,  2.71it/s]IOPub message rate exceeded.\n",
      "The notebook server will temporarily stop sending output\n",
      "to the client in order to avoid crashing it.\n",
      "To change this limit, set the config variable\n",
      "`--NotebookApp.iopub_msg_rate_limit`.\n",
      "\n",
      "Current values:\n",
      "NotebookApp.iopub_msg_rate_limit=1000.0 (msgs/sec)\n",
      "NotebookApp.rate_limit_window=3.0 (secs)\n",
      "\n",
      "my bar!:  86%|████████▋ | 107415/124286 [13:22:34<1:46:36,  2.64it/s] IOPub message rate exceeded.\n",
      "The notebook server will temporarily stop sending output\n",
      "to the client in order to avoid crashing it.\n",
      "To change this limit, set the config variable\n",
      "`--NotebookApp.iopub_msg_rate_limit`.\n",
      "\n",
      "Current values:\n",
      "NotebookApp.iopub_msg_rate_limit=1000.0 (msgs/sec)\n",
      "NotebookApp.rate_limit_window=3.0 (secs)\n",
      "\n",
      "my bar!:  92%|█████████▏| 113865/124286 [14:08:07<1:06:33,  2.61it/s]IOPub message rate exceeded.\n",
      "The notebook server will temporarily stop sending output\n",
      "to the client in order to avoid crashing it.\n",
      "To change this limit, set the config variable\n",
      "`--NotebookApp.iopub_msg_rate_limit`.\n",
      "\n",
      "Current values:\n",
      "NotebookApp.iopub_msg_rate_limit=1000.0 (msgs/sec)\n",
      "NotebookApp.rate_limit_window=3.0 (secs)\n",
      "\n",
      "my bar!:  97%|█████████▋| 120771/124286 [14:56:35<28:11,  2.08it/s]  IOPub message rate exceeded.\n",
      "The notebook server will temporarily stop sending output\n",
      "to the client in order to avoid crashing it.\n",
      "To change this limit, set the config variable\n",
      "`--NotebookApp.iopub_msg_rate_limit`.\n",
      "\n",
      "Current values:\n",
      "NotebookApp.iopub_msg_rate_limit=1000.0 (msgs/sec)\n",
      "NotebookApp.rate_limit_window=3.0 (secs)\n",
      "\n"
     ]
    }
   ],
   "source": [
    "cdx_avail = unique_uris.progress_apply(lambda x: get_cdx_avail(base_uri, x.uri), axis=1)"
   ]
  },
  {
   "cell_type": "code",
   "execution_count": 32,
   "metadata": {},
   "outputs": [
    {
     "data": {
      "text/plain": [
       "2     (http://web.archive.org/cdx/search/cdx?url=arc...\n",
       "8     (http://web.archive.org/cdx/search/cdx?url=cn....\n",
       "9     (http://web.archive.org/cdx/search/cdx?url=nym...\n",
       "10    (http://web.archive.org/cdx/search/cdx?url=jpo...\n",
       "11    (http://web.archive.org/cdx/search/cdx?url=ter...\n",
       "dtype: object"
      ]
     },
     "execution_count": 32,
     "metadata": {},
     "output_type": "execute_result"
    }
   ],
   "source": [
    "cdx_avail.head()"
   ]
  },
  {
   "cell_type": "raw",
   "metadata": {},
   "source": [
    "cdx_avail.to_pickle('data/cdx_avail.pkl.gz', compression='gzip')"
   ]
  },
  {
   "cell_type": "code",
   "execution_count": 25,
   "metadata": {},
   "outputs": [],
   "source": [
    "cdx_avail = pd.read_pickle('data/cdx_avail.pkl.gz', compression='gzip')"
   ]
  },
  {
   "cell_type": "code",
   "execution_count": 26,
   "metadata": {},
   "outputs": [
    {
     "data": {
      "text/plain": [
       "2     (http://web.archive.org/cdx/search/cdx?url=arc...\n",
       "8     (http://web.archive.org/cdx/search/cdx?url=cn....\n",
       "9     (http://web.archive.org/cdx/search/cdx?url=nym...\n",
       "10    (http://web.archive.org/cdx/search/cdx?url=jpo...\n",
       "11    (http://web.archive.org/cdx/search/cdx?url=ter...\n",
       "dtype: object"
      ]
     },
     "execution_count": 26,
     "metadata": {},
     "output_type": "execute_result"
    }
   ],
   "source": [
    "cdx_avail.head()"
   ]
  },
  {
   "cell_type": "code",
   "execution_count": 30,
   "metadata": {},
   "outputs": [],
   "source": [
    "cdx_avail = pd.concat([unique_uris, cdx_avail], axis=1)"
   ]
  },
  {
   "cell_type": "code",
   "execution_count": 68,
   "metadata": {},
   "outputs": [
    {
     "data": {
      "text/plain": [
       "['2132']"
      ]
     },
     "execution_count": 68,
     "metadata": {},
     "output_type": "execute_result"
    }
   ],
   "source": [
    "'2132\\n'.strip().split('\\n')"
   ]
  },
  {
   "cell_type": "code",
   "execution_count": 69,
   "metadata": {},
   "outputs": [],
   "source": [
    "cdx_status = pd.DataFrame([(u, x[0], x[1], len(x[2].strip().split('\\n')))\n",
    "                            if len(x[2])>0 else (u, x[0], x[1], 0)\n",
    "                           for u, x in zip(cdx_avail.iloc[:, 0].tolist(), cdx_avail.iloc[:, 1])\n",
    "                           ], \n",
    "                          columns=['uri', 'cdx_url', 'status', 'lines']) "
   ]
  },
  {
   "cell_type": "code",
   "execution_count": 72,
   "metadata": {},
   "outputs": [
    {
     "data": {
      "text/html": [
       "<div>\n",
       "<style scoped>\n",
       "    .dataframe tbody tr th:only-of-type {\n",
       "        vertical-align: middle;\n",
       "    }\n",
       "\n",
       "    .dataframe tbody tr th {\n",
       "        vertical-align: top;\n",
       "    }\n",
       "\n",
       "    .dataframe thead th {\n",
       "        text-align: right;\n",
       "    }\n",
       "</style>\n",
       "<table border=\"1\" class=\"dataframe\">\n",
       "  <thead>\n",
       "    <tr style=\"text-align: right;\">\n",
       "      <th></th>\n",
       "      <th>uri</th>\n",
       "      <th>cdx_url</th>\n",
       "      <th>status</th>\n",
       "      <th>lines</th>\n",
       "    </tr>\n",
       "  </thead>\n",
       "  <tbody>\n",
       "    <tr>\n",
       "      <th>0</th>\n",
       "      <td>archive.is/20140828023420/http://www.worldjour...</td>\n",
       "      <td>http://web.archive.org/cdx/search/cdx?url=arch...</td>\n",
       "      <td>200</td>\n",
       "      <td>0</td>\n",
       "    </tr>\n",
       "    <tr>\n",
       "      <th>1</th>\n",
       "      <td>cn.rfi.fr/%E6%94%BF%E6%B2%BB/20140720-%E8%81%9...</td>\n",
       "      <td>http://web.archive.org/cdx/search/cdx?url=cn.r...</td>\n",
       "      <td>200</td>\n",
       "      <td>2</td>\n",
       "    </tr>\n",
       "    <tr>\n",
       "      <th>2</th>\n",
       "      <td>nymag.com/daily/intelligencer/2014/07/hamas-di...</td>\n",
       "      <td>http://web.archive.org/cdx/search/cdx?url=nyma...</td>\n",
       "      <td>200</td>\n",
       "      <td>154</td>\n",
       "    </tr>\n",
       "    <tr>\n",
       "      <th>3</th>\n",
       "      <td>jpost.com/Operation-Protective-Edge/50-days-of...</td>\n",
       "      <td>http://web.archive.org/cdx/search/cdx?url=jpos...</td>\n",
       "      <td>200</td>\n",
       "      <td>284</td>\n",
       "    </tr>\n",
       "    <tr>\n",
       "      <th>4</th>\n",
       "      <td>terrorism-info.org.il/Data/articles/Art_20774/...</td>\n",
       "      <td>http://web.archive.org/cdx/search/cdx?url=terr...</td>\n",
       "      <td>200</td>\n",
       "      <td>21</td>\n",
       "    </tr>\n",
       "  </tbody>\n",
       "</table>\n",
       "</div>"
      ],
      "text/plain": [
       "                                                 uri  \\\n",
       "0  archive.is/20140828023420/http://www.worldjour...   \n",
       "1  cn.rfi.fr/%E6%94%BF%E6%B2%BB/20140720-%E8%81%9...   \n",
       "2  nymag.com/daily/intelligencer/2014/07/hamas-di...   \n",
       "3  jpost.com/Operation-Protective-Edge/50-days-of...   \n",
       "4  terrorism-info.org.il/Data/articles/Art_20774/...   \n",
       "\n",
       "                                             cdx_url  status  lines  \n",
       "0  http://web.archive.org/cdx/search/cdx?url=arch...     200      0  \n",
       "1  http://web.archive.org/cdx/search/cdx?url=cn.r...     200      2  \n",
       "2  http://web.archive.org/cdx/search/cdx?url=nyma...     200    154  \n",
       "3  http://web.archive.org/cdx/search/cdx?url=jpos...     200    284  \n",
       "4  http://web.archive.org/cdx/search/cdx?url=terr...     200     21  "
      ]
     },
     "execution_count": 72,
     "metadata": {},
     "output_type": "execute_result"
    }
   ],
   "source": [
    "cdx_status.head()"
   ]
  },
  {
   "cell_type": "code",
   "execution_count": 63,
   "metadata": {},
   "outputs": [
    {
     "data": {
      "text/plain": [
       "0.8016671226043158"
      ]
     },
     "execution_count": 63,
     "metadata": {},
     "output_type": "execute_result"
    }
   ],
   "source": [
    "99636 / unique_uris.shape[0]"
   ]
  },
  {
   "cell_type": "raw",
   "metadata": {},
   "source": [
    "cdx_status.to_csv('data/cdx_avail_lines.csv.gz', index=False, compression='gzip')"
   ]
  },
  {
   "cell_type": "code",
   "execution_count": 64,
   "metadata": {},
   "outputs": [],
   "source": [
    "cdx_status = pd.read_csv('data/cdx_avail_lines.csv.gz', compression='gzip')"
   ]
  },
  {
   "cell_type": "code",
   "execution_count": 75,
   "metadata": {},
   "outputs": [
    {
     "data": {
      "text/html": [
       "<div>\n",
       "<style scoped>\n",
       "    .dataframe tbody tr th:only-of-type {\n",
       "        vertical-align: middle;\n",
       "    }\n",
       "\n",
       "    .dataframe tbody tr th {\n",
       "        vertical-align: top;\n",
       "    }\n",
       "\n",
       "    .dataframe thead th {\n",
       "        text-align: right;\n",
       "    }\n",
       "</style>\n",
       "<table border=\"1\" class=\"dataframe\">\n",
       "  <thead>\n",
       "    <tr style=\"text-align: right;\">\n",
       "      <th></th>\n",
       "      <th>uri</th>\n",
       "      <th>cdx_url</th>\n",
       "      <th>status</th>\n",
       "      <th>lines</th>\n",
       "    </tr>\n",
       "  </thead>\n",
       "  <tbody>\n",
       "    <tr>\n",
       "      <th>32</th>\n",
       "      <td>m.news.sina.com.tw/article/20140802/13028508.html</td>\n",
       "      <td>http://web.archive.org/cdx/search/cdx?url=m.ne...</td>\n",
       "      <td>200</td>\n",
       "      <td>1</td>\n",
       "    </tr>\n",
       "    <tr>\n",
       "      <th>69</th>\n",
       "      <td>nzherald.co.nz/world/news/article.cfm?c_id=2&amp;o...</td>\n",
       "      <td>http://web.archive.org/cdx/search/cdx?url=nzhe...</td>\n",
       "      <td>200</td>\n",
       "      <td>1</td>\n",
       "    </tr>\n",
       "    <tr>\n",
       "      <th>71</th>\n",
       "      <td>tw.news.yahoo.com/%E4%BB%A5%E5%B7%B4%E8%A1%9D%...</td>\n",
       "      <td>http://web.archive.org/cdx/search/cdx?url=tw.n...</td>\n",
       "      <td>200</td>\n",
       "      <td>1</td>\n",
       "    </tr>\n",
       "    <tr>\n",
       "      <th>72</th>\n",
       "      <td>chinese.rfi.fr/%E6%94%BF%E6%B2%BB/20140720-%E8...</td>\n",
       "      <td>http://web.archive.org/cdx/search/cdx?url=chin...</td>\n",
       "      <td>200</td>\n",
       "      <td>1</td>\n",
       "    </tr>\n",
       "    <tr>\n",
       "      <th>82</th>\n",
       "      <td>haluan.org.my/v5/index.php/palestin/berita-pal...</td>\n",
       "      <td>http://web.archive.org/cdx/search/cdx?url=halu...</td>\n",
       "      <td>200</td>\n",
       "      <td>1</td>\n",
       "    </tr>\n",
       "  </tbody>\n",
       "</table>\n",
       "</div>"
      ],
      "text/plain": [
       "                                                  uri  \\\n",
       "32  m.news.sina.com.tw/article/20140802/13028508.html   \n",
       "69  nzherald.co.nz/world/news/article.cfm?c_id=2&o...   \n",
       "71  tw.news.yahoo.com/%E4%BB%A5%E5%B7%B4%E8%A1%9D%...   \n",
       "72  chinese.rfi.fr/%E6%94%BF%E6%B2%BB/20140720-%E8...   \n",
       "82  haluan.org.my/v5/index.php/palestin/berita-pal...   \n",
       "\n",
       "                                              cdx_url  status  lines  \n",
       "32  http://web.archive.org/cdx/search/cdx?url=m.ne...     200      1  \n",
       "69  http://web.archive.org/cdx/search/cdx?url=nzhe...     200      1  \n",
       "71  http://web.archive.org/cdx/search/cdx?url=tw.n...     200      1  \n",
       "72  http://web.archive.org/cdx/search/cdx?url=chin...     200      1  \n",
       "82  http://web.archive.org/cdx/search/cdx?url=halu...     200      1  "
      ]
     },
     "execution_count": 75,
     "metadata": {},
     "output_type": "execute_result"
    }
   ],
   "source": [
    "cdx_status[cdx_status.lines==1].head()"
   ]
  },
  {
   "cell_type": "code",
   "execution_count": 76,
   "metadata": {},
   "outputs": [
    {
     "name": "stdout",
     "output_type": "stream",
     "text": [
      "fr,rfi,cn)/%e6%94%bf%e6%b2%bb/20140720-%e8%81%94%e5%90%88%e5%9b%bd%e7%a7%98%e4%b9%a6%e9%95%bf%e5%89%8d%e5%be%80%e4%b8%ad%e4%b8%9c%e6%96%a1%e6%97%8b%e5%b7%b4%e4%bb%a5%e5%86%b2%e7%aa%81 20190213020443 http://cn.rfi.fr/%E6%94%BF%E6%B2%BB/20140720-%E8%81%94%E5%90%88%E5%9B%BD%E7%A7%98%E4%B9%A6%E9%95%BF%E5%89%8D%E5%BE%80%E4%B8%AD%E4%B8%9C%E6%96%A1%E6%97%8B%E5%B7%B4%E4%BB%A5%E5%86%B2%E7%AA%81 text/html 200 JL77CB7N3XZD6IVUNB2PVY6CWFMVAG5D 29686\n",
      "fr,rfi,cn)/%e6%94%bf%e6%b2%bb/20140720-%e8%81%94%e5%90%88%e5%9b%bd%e7%a7%98%e4%b9%a6%e9%95%bf%e5%89%8d%e5%be%80%e4%b8%ad%e4%b8%9c%e6%96%a1%e6%97%8b%e5%b7%b4%e4%bb%a5%e5%86%b2%e7%aa%81 20190214102140 http://cn.rfi.fr/%E6%94%BF%E6%B2%BB/20140720-%E8%81%94%E5%90%88%E5%9B%BD%E7%A7%98%E4%B9%A6%E9%95%BF%E5%89%8D%E5%BE%80%E4%B8%AD%E4%B8%9C%E6%96%A1%E6%97%8B%E5%B7%B4%E4%BB%A5%E5%86%B2%E7%AA%81 text/html 200 GRDBOLM2B4TSCKZSANGETZQ4AKJHH3J4 29971\n",
      "\n"
     ]
    }
   ],
   "source": [
    "print(cdx_avail.reset_index()[cdx_status.lines==2].iat[0, 2][2])"
   ]
  },
  {
   "cell_type": "code",
   "execution_count": 77,
   "metadata": {},
   "outputs": [
    {
     "data": {
      "text/plain": [
       "0         99636\n",
       "1          4805\n",
       "2          3140\n",
       "3          2288\n",
       "4          1744\n",
       "5          1365\n",
       "6           958\n",
       "7           857\n",
       "8           700\n",
       "9           552\n",
       "10          482\n",
       "11          426\n",
       "12          330\n",
       "13          286\n",
       "14          269\n",
       "15          260\n",
       "16          239\n",
       "19          199\n",
       "17          194\n",
       "18          191\n",
       "20          175\n",
       "21          156\n",
       "22          153\n",
       "23          140\n",
       "24          129\n",
       "25          121\n",
       "26          118\n",
       "27          117\n",
       "28          115\n",
       "29           97\n",
       "          ...  \n",
       "1443          1\n",
       "5537          1\n",
       "931           1\n",
       "867           1\n",
       "483           1\n",
       "355           1\n",
       "4257          1\n",
       "613           1\n",
       "1381          1\n",
       "360           1\n",
       "359           1\n",
       "210959        1\n",
       "26603         1\n",
       "3878          1\n",
       "1767          1\n",
       "1511          1\n",
       "935           1\n",
       "807           1\n",
       "551           1\n",
       "295           1\n",
       "3748          1\n",
       "15585         1\n",
       "4836          1\n",
       "4644          1\n",
       "486           1\n",
       "422           1\n",
       "358           1\n",
       "294           1\n",
       "230           1\n",
       "351           1\n",
       "Name: lines, Length: 921, dtype: int64"
      ]
     },
     "execution_count": 77,
     "metadata": {},
     "output_type": "execute_result"
    }
   ],
   "source": [
    "cdx_status.lines.value_counts()"
   ]
  },
  {
   "cell_type": "code",
   "execution_count": 45,
   "metadata": {},
   "outputs": [
    {
     "data": {
      "text/plain": [
       "('http://web.archive.org/cdx/search/cdx?url=archive.is%2F20140828023420%2Fhttp%3A%2F%2Fwww.worldjournal.com%2Fview%2Ffull_van%2F25637070%2Farticle-%25E5%2581%259C%25E7%2581%25AB%25E5%258F%2588%25E7%25A0%25B4%25E5%25B1%2580-%25E5%2593%2588%25E7%2591%25AA%25E6%2596%25AF%25E6%258C%2587%25E6%258F%25AE%25E5%25AE%2598%25E5%25A6%25BB%25E5%25A5%25B3%25E8%25A2%25AB%25E7%2582%25B8%25E6%25AD%25BB%3Finstance%3Dbc_bull_left1',\n",
       " 200,\n",
       " '')"
      ]
     },
     "execution_count": 45,
     "metadata": {},
     "output_type": "execute_result"
    }
   ],
   "source": [
    "cdx_avail.iat[0]"
   ]
  },
  {
   "cell_type": "raw",
   "metadata": {},
   "source": [
    "wb_df = pd.read_pickle('data/wb_avail_all_sources_df_FINAL.pkl.gz', compression='gzip')"
   ]
  },
  {
   "cell_type": "code",
   "execution_count": null,
   "metadata": {},
   "outputs": [],
   "source": []
  },
  {
   "cell_type": "code",
   "execution_count": 105,
   "metadata": {},
   "outputs": [],
   "source": [
    "wb = cdx_status[['uri', 'lines']].rename(columns={'lines': 'cdx'}).merge(wb_df[['uri', 'available']], on='uri', how='left').fillna(False)"
   ]
  },
  {
   "cell_type": "code",
   "execution_count": 108,
   "metadata": {},
   "outputs": [
    {
     "data": {
      "text/plain": [
       "(2057, 3)"
      ]
     },
     "execution_count": 108,
     "metadata": {},
     "output_type": "execute_result"
    }
   ],
   "source": [
    "wb[(wb.cdx!=0) & (~wb.available)].shape"
   ]
  },
  {
   "cell_type": "code",
   "execution_count": 110,
   "metadata": {
    "scrolled": true
   },
   "outputs": [
    {
     "data": {
      "text/html": [
       "<div>\n",
       "<style scoped>\n",
       "    .dataframe tbody tr th:only-of-type {\n",
       "        vertical-align: middle;\n",
       "    }\n",
       "\n",
       "    .dataframe tbody tr th {\n",
       "        vertical-align: top;\n",
       "    }\n",
       "\n",
       "    .dataframe thead th {\n",
       "        text-align: right;\n",
       "    }\n",
       "</style>\n",
       "<table border=\"1\" class=\"dataframe\">\n",
       "  <thead>\n",
       "    <tr style=\"text-align: right;\">\n",
       "      <th></th>\n",
       "      <th>uri</th>\n",
       "      <th>cdx</th>\n",
       "      <th>available</th>\n",
       "    </tr>\n",
       "  </thead>\n",
       "  <tbody>\n",
       "    <tr>\n",
       "      <th>0</th>\n",
       "      <td>archive.is/20140828023420/http://www.worldjour...</td>\n",
       "      <td>0</td>\n",
       "      <td>False</td>\n",
       "    </tr>\n",
       "    <tr>\n",
       "      <th>1</th>\n",
       "      <td>cn.rfi.fr/%E6%94%BF%E6%B2%BB/20140720-%E8%81%9...</td>\n",
       "      <td>2</td>\n",
       "      <td>True</td>\n",
       "    </tr>\n",
       "    <tr>\n",
       "      <th>2</th>\n",
       "      <td>nymag.com/daily/intelligencer/2014/07/hamas-di...</td>\n",
       "      <td>154</td>\n",
       "      <td>True</td>\n",
       "    </tr>\n",
       "    <tr>\n",
       "      <th>3</th>\n",
       "      <td>jpost.com/Operation-Protective-Edge/50-days-of...</td>\n",
       "      <td>284</td>\n",
       "      <td>True</td>\n",
       "    </tr>\n",
       "    <tr>\n",
       "      <th>4</th>\n",
       "      <td>terrorism-info.org.il/Data/articles/Art_20774/...</td>\n",
       "      <td>21</td>\n",
       "      <td>True</td>\n",
       "    </tr>\n",
       "  </tbody>\n",
       "</table>\n",
       "</div>"
      ],
      "text/plain": [
       "                                                 uri  cdx  available\n",
       "0  archive.is/20140828023420/http://www.worldjour...    0      False\n",
       "1  cn.rfi.fr/%E6%94%BF%E6%B2%BB/20140720-%E8%81%9...    2       True\n",
       "2  nymag.com/daily/intelligencer/2014/07/hamas-di...  154       True\n",
       "3  jpost.com/Operation-Protective-Edge/50-days-of...  284       True\n",
       "4  terrorism-info.org.il/Data/articles/Art_20774/...   21       True"
      ]
     },
     "execution_count": 110,
     "metadata": {},
     "output_type": "execute_result"
    }
   ],
   "source": [
    "wb.head()"
   ]
  },
  {
   "cell_type": "raw",
   "metadata": {},
   "source": [
    "wb.to_csv('data/wb_avail_cdx_all.csv.gz', index=False, compression='gzip')"
   ]
  },
  {
   "cell_type": "code",
   "execution_count": null,
   "metadata": {},
   "outputs": [],
   "source": []
  },
  {
   "cell_type": "code",
   "execution_count": 13,
   "metadata": {},
   "outputs": [],
   "source": [
    "@retry(3)\n",
    "def get_memento_avail(base_uri, uri):\n",
    "    try:\n",
    "        resp = requests.get(base_uri+uri).json()\n",
    "    except:\n",
    "        resp = None\n",
    "    return resp"
   ]
  },
  {
   "cell_type": "code",
   "execution_count": 16,
   "metadata": {},
   "outputs": [],
   "source": [
    "base_uri_time =  'http://timetravel.mementoweb.org/api/json/20140801000000/'\n"
   ]
  },
  {
   "cell_type": "code",
   "execution_count": 17,
   "metadata": {},
   "outputs": [],
   "source": [
    "get_memento_avail(base_uri_time, 'english.alarabiya.net/en/News/2014/07/30/Hamas-official-asks-Hezbollah-to-join-fight-against-Israel-.html')"
   ]
  },
  {
   "cell_type": "code",
   "execution_count": null,
   "metadata": {},
   "outputs": [
    {
     "name": "stderr",
     "output_type": "stream",
     "text": [
      "my bar!:   8%|▊         | 10560/124286 [16:11:39<1871:59:43, 59.26s/it]"
     ]
    }
   ],
   "source": [
    "memento_api2_avail = unique_uris.progress_apply(lambda x: get_memento_avail(base_uri_time, x.uri), axis=1)"
   ]
  },
  {
   "cell_type": "code",
   "execution_count": null,
   "metadata": {},
   "outputs": [],
   "source": [
    "memento_api2_avail.head()"
   ]
  },
  {
   "cell_type": "markdown",
   "metadata": {},
   "source": [
    "## Status code check"
   ]
  },
  {
   "cell_type": "code",
   "execution_count": 127,
   "metadata": {},
   "outputs": [],
   "source": [
    "def retry_none(times):\n",
    "\n",
    "    def wrapper_fn(f):\n",
    "\n",
    "        @wraps(f)\n",
    "        def new_wrapper(*args,**kwargs):\n",
    "            for i in range(times):\n",
    "                try:\n",
    "                    #print 'try %s' % (i + 1)\n",
    "                    return f(*args,**kwargs)\n",
    "                except Exception as e:\n",
    "                    error = e\n",
    "            return None\n",
    "\n",
    "        return new_wrapper\n",
    "\n",
    "    return wrapper_fn"
   ]
  },
  {
   "cell_type": "code",
   "execution_count": 128,
   "metadata": {},
   "outputs": [],
   "source": [
    "@retry_none(3)\n",
    "def get_response(uri):\n",
    "    resp = requests.get(uri)\n",
    "    return resp"
   ]
  },
  {
   "cell_type": "code",
   "execution_count": 129,
   "metadata": {},
   "outputs": [],
   "source": [
    "df['uri_unsh_no_clean'] = df.uri_unshrtn_raw.combine_first(df.uri_unshrtn_bitly.combine_first(df.uri_unshrtn.combine_first(df.uri)))"
   ]
  },
  {
   "cell_type": "code",
   "execution_count": 124,
   "metadata": {},
   "outputs": [
    {
     "data": {
      "text/plain": [
       "(83590, 1)"
      ]
     },
     "execution_count": 124,
     "metadata": {},
     "output_type": "execute_result"
    }
   ],
   "source": [
    "unique_uris_raw_only_unsh = df.uri_unsh_no_clean.drop_duplicates().to_frame().rename(columns={'uri_unsh_no_clean': 'uri'})\n",
    "unique_uris_raw_only_unsh.shape"
   ]
  },
  {
   "cell_type": "code",
   "execution_count": 132,
   "metadata": {},
   "outputs": [],
   "source": [
    "import concurrent.futures"
   ]
  },
  {
   "cell_type": "code",
   "execution_count": null,
   "metadata": {},
   "outputs": [],
   "source": [
    "all_resp = {}\n",
    "\n",
    "# We can use a with statement to ensure threads are cleaned up promptly\n",
    "with concurrent.futures.ThreadPoolExecutor(max_workers=20) as executor:\n",
    "    # Start the load operations and mark each future with its URL\n",
    "    future_to_parse = {executor.submit(get_response, uri): uri for idx, uri in unique_uris_raw_only_unsh.itertuples()}\n",
    "    for future in concurrent.futures.as_completed(future_to_parse):\n",
    "        uri = future_to_parse[future]\n",
    "        all_resp[uri] = future\n",
    "\n",
    "\n",
    "for future in concurrent.futures.as_completed(future_to_parse):\n",
    "    uri = future_to_parse[future]\n",
    "    try:\n",
    "        all_resp[uri] = future.result()\n",
    "    except:\n",
    "        all_resp[uri] = None"
   ]
  },
  {
   "cell_type": "code",
   "execution_count": null,
   "metadata": {},
   "outputs": [],
   "source": [
    "len(all_resp)"
   ]
  },
  {
   "cell_type": "code",
   "execution_count": 5,
   "metadata": {},
   "outputs": [
    {
     "data": {
      "text/plain": [
       "13763"
      ]
     },
     "execution_count": 5,
     "metadata": {},
     "output_type": "execute_result"
    }
   ],
   "source": [
    "import os; os.getpid()"
   ]
  },
  {
   "cell_type": "markdown",
   "metadata": {},
   "source": [
    "## 2014_NLIL"
   ]
  },
  {
   "cell_type": "code",
   "execution_count": 1,
   "metadata": {},
   "outputs": [],
   "source": [
    "import pandas as pd\n"
   ]
  },
  {
   "cell_type": "code",
   "execution_count": 5,
   "metadata": {},
   "outputs": [
    {
     "data": {
      "text/html": [
       "<div>\n",
       "<style scoped>\n",
       "    .dataframe tbody tr th:only-of-type {\n",
       "        vertical-align: middle;\n",
       "    }\n",
       "\n",
       "    .dataframe tbody tr th {\n",
       "        vertical-align: top;\n",
       "    }\n",
       "\n",
       "    .dataframe thead th {\n",
       "        text-align: right;\n",
       "    }\n",
       "</style>\n",
       "<table border=\"1\" class=\"dataframe\">\n",
       "  <thead>\n",
       "    <tr style=\"text-align: right;\">\n",
       "      <th></th>\n",
       "      <th>timestamp</th>\n",
       "      <th>url</th>\n",
       "    </tr>\n",
       "  </thead>\n",
       "  <tbody>\n",
       "    <tr>\n",
       "      <th>0</th>\n",
       "      <td>20140731225812</td>\n",
       "      <td>http://9tv.co.il/</td>\n",
       "    </tr>\n",
       "    <tr>\n",
       "      <th>1</th>\n",
       "      <td>20140731230439</td>\n",
       "      <td>http://9tv.co.il/news/2014/07/31/181742.html</td>\n",
       "    </tr>\n",
       "    <tr>\n",
       "      <th>2</th>\n",
       "      <td>20140731230606</td>\n",
       "      <td>http://9tv.co.il/news/2014/07/31/181835.html</td>\n",
       "    </tr>\n",
       "    <tr>\n",
       "      <th>3</th>\n",
       "      <td>20140731230004</td>\n",
       "      <td>http://9tv.co.il/news/protective-edge/</td>\n",
       "    </tr>\n",
       "    <tr>\n",
       "      <th>4</th>\n",
       "      <td>20140731225747</td>\n",
       "      <td>http://85fashionkitty.blogspot.co.il/</td>\n",
       "    </tr>\n",
       "  </tbody>\n",
       "</table>\n",
       "</div>"
      ],
      "text/plain": [
       "        timestamp                                           url\n",
       "0  20140731225812                             http://9tv.co.il/\n",
       "1  20140731230439  http://9tv.co.il/news/2014/07/31/181742.html\n",
       "2  20140731230606  http://9tv.co.il/news/2014/07/31/181835.html\n",
       "3  20140731230004        http://9tv.co.il/news/protective-edge/\n",
       "4  20140731225747         http://85fashionkitty.blogspot.co.il/"
      ]
     },
     "execution_count": 5,
     "metadata": {},
     "output_type": "execute_result"
    }
   ],
   "source": [
    "nl = (pd.read_csv('data/collscan-daan-nlil_2014.cdx.gz', sep=' ', header=None, names=['timestamp', 'url'], usecols=[1,2])\n",
    "      .assign(timestamp=lambda x: x.timestamp.astype(int)))\n",
    "nl.head()"
   ]
  },
  {
   "cell_type": "code",
   "execution_count": 7,
   "metadata": {},
   "outputs": [
    {
     "data": {
      "text/plain": [
       "min    20140731225138\n",
       "max    20141021015238\n",
       "Name: timestamp, dtype: int64"
      ]
     },
     "execution_count": 7,
     "metadata": {},
     "output_type": "execute_result"
    }
   ],
   "source": [
    "nl.timestamp.agg([min, max])"
   ]
  },
  {
   "cell_type": "code",
   "execution_count": null,
   "metadata": {},
   "outputs": [],
   "source": []
  }
 ],
 "metadata": {
  "kernelspec": {
   "display_name": "Python 3",
   "language": "python",
   "name": "python3"
  },
  "language_info": {
   "codemirror_mode": {
    "name": "ipython",
    "version": 3
   },
   "file_extension": ".py",
   "mimetype": "text/x-python",
   "name": "python",
   "nbconvert_exporter": "python",
   "pygments_lexer": "ipython3",
   "version": "3.6.8"
  },
  "toc": {
   "base_numbering": 1,
   "nav_menu": {},
   "number_sections": true,
   "sideBar": true,
   "skip_h1_title": false,
   "title_cell": "Table of Contents",
   "title_sidebar": "Contents",
   "toc_cell": false,
   "toc_position": {
    "height": "calc(100% - 180px)",
    "left": "10px",
    "top": "150px",
    "width": "165px"
   },
   "toc_section_display": true,
   "toc_window_display": true
  }
 },
 "nbformat": 4,
 "nbformat_minor": 2
}
