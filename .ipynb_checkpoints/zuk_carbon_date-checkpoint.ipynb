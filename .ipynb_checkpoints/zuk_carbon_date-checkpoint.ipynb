{
 "cells": [
  {
   "cell_type": "code",
   "execution_count": 1,
   "metadata": {
    "ExecuteTime": {
     "end_time": "2019-01-20T11:44:53.252744Z",
     "start_time": "2019-01-20T11:44:52.719170Z"
    }
   },
   "outputs": [],
   "source": [
    "import numpy as np\n",
    "import pandas as pd"
   ]
  },
  {
   "cell_type": "code",
   "execution_count": 2,
   "metadata": {
    "ExecuteTime": {
     "end_time": "2019-01-20T11:44:54.922811Z",
     "start_time": "2019-01-20T11:44:53.256734Z"
    }
   },
   "outputs": [],
   "source": [
    "df = pd.read_csv('data/all-full.csv')\n",
    "df.columns = df.columns.str.replace(' ', '_')"
   ]
  },
  {
   "cell_type": "code",
   "execution_count": 3,
   "metadata": {
    "ExecuteTime": {
     "end_time": "2019-01-20T11:44:55.863067Z",
     "start_time": "2019-01-20T11:44:55.760381Z"
    }
   },
   "outputs": [
    {
     "data": {
      "text/plain": [
       "https://he.wikipedia.org/wiki/%D7%A7%D7%95%D7%91%D7%A5:International_reaction_to_the_2008%E2%80%932009_Israel%E2%80%93Gaza_conflict.png                                                                                                                                                                                                                          171\n",
       "https://www.haaretz.co.il/news/politics/1.2378229                                                                                                                                                                                                                                                                                                                157\n",
       "https://en.wikipedia.org/wiki/2014_Israel%E2%80%93Gaza_conflict                                                                                                                                                                                                                                                                                                  157\n",
       "https://www.independent.co.uk/news/world/middle-east/israel-gaza-conflict-50-day-war-by-numbers-9693310.html                                                                                                                                                                                                                                                     156\n",
       "https://www.mako.co.il/news-israel/local-q3_2014/q3_2014/Article-b3bd9f58371a841004.htm                                                                                                                                                                                                                                                                          155\n",
       "https://www.haaretz.co.il/news/politics/1.2385021                                                                                                                                                                                                                                                                                                                154\n",
       "https://www.haaretz.co.il/news/politics/1.2387457                                                                                                                                                                                                                                                                                                                154\n",
       "https://www.youtube.com/watch?v=nIcOhghE7XY                                                                                                                                                                                                                                                                                                                      154\n",
       "https://www.haaretz.co.il/news/politics/1.2371270                                                                                                                                                                                                                                                                                                                153\n",
       "https://www.haaretz.co.il/news/politics/1.2383929                                                                                                                                                                                                                                                                                                                153\n",
       "https://www.haaretz.co.il/news/politics/1.2372441                                                                                                                                                                                                                                                                                                                153\n",
       "http://palestine-studies.org/resources/events/%D8%A7%D9%84%D8%AD%D8%B1%D8%A8-%D8%B9%D9%84%D9%89-%D8%BA%D8%B2%D8%A9-%D8%A2%D9%81%D8%A7%D9%82-%D8%A7%D9%84%D9%85%D8%B1%D8%AD%D9%84%D8%A9-%D8%A7%D9%84%D9%82%D8%A7%D8%AF%D9%85%D8%A9                                                                                                                                152\n",
       "https://shironet.mako.co.il/html/indexes/works/223.html                                                                                                                                                                                                                                                                                                          152\n",
       "https://www.mako.co.il/news-military/security-tzuk-eitan/Article-a0c757094e5a741004.htm                                                                                                                                                                                                                                                                          151\n",
       "https://palsawa.com/post/163126/%D8%A7%D9%84%D8%AD%D8%B1%D8%A8-%D8%B9%D9%84%D9%89-%D8%BA%D8%B2%D8%A9-%D8%B3%D9%8A%D8%A7%D9%82%D8%A7%D8%AA-%D8%A5%D8%B3%D8%B1%D8%A7%D8%A6%D9%8A%D9%84%D9%8A%D8%A9-%D8%AF%D8%A7%D8%AE%D9%84%D9%8A%D8%A9                                                                                                                            151\n",
       "https://www.youtube.com/watch?v=eiK_fZpIf7w                                                                                                                                                                                                                                                                                                                      151\n",
       "https://en.wikipedia.org/wiki/United_Nations_Fact_Finding_Mission_on_the_2014_Israel%E2%80%93Gaza_conflict                                                                                                                                                                                                                                                       151\n",
       "https://www.10.tv/news/51653                                                                                                                                                                                                                                                                                                                                     151\n",
       "https://www.raialyoum.com/index.php/%D8%B9%D9%85%D8%A7%D8%AF-%D8%B9%D9%81%D8%A7%D9%86%D8%A9-%D9%85%D8%A7-%D9%84%D8%A7-%D8%AA%D8%B9%D8%B1%D9%81%D9%87-%D8%B9%D9%86-%D8%A3%D8%B3%D8%A8%D8%A7%D8%A8-%D8%AA%D8%A3%D8%AC%D9%8A%D9%84-%D8%A7/                                                                                                                          151\n",
       "https://en.wikipedia.org/wiki/Reactions_to_the_2014_Israel%E2%80%93Gaza_conflict                                                                                                                                                                                                                                                                                 150\n",
       "https://middle-east-online.com/%D8%B9%D9%81%D9%88%D8%A7-%D9%85%D8%A7-%D9%85%D8%B9%D9%86%D9%89-%D8%A7%D9%84%D8%AD%D8%B1%D8%A8-%D8%B9%D9%84%D9%89-%D8%BA%D8%B2%D8%A9                                                                                                                                                                                               150\n",
       "https://www.quora.com/What-is-the-reason-for-the-Israel-Gaza-conflict                                                                                                                                                                                                                                                                                            149\n",
       "https://www.cambridge.org/core/journals/review-of-international-studies/article/war-by-other-means-mobile-gaming-and-the-2014-israelgaza-conflict/C7F4187454FD18F7E32A662A4437A100                                                                                                                                                                               149\n",
       "http://time.com/3007774/israel-gaza-conflict-ceasefire-scramble/                                                                                                                                                                                                                                                                                                 149\n",
       "https://ar.wikipedia.org/wiki/%D8%AD%D8%B1%D9%88%D8%A8_%D8%A5%D8%B3%D8%B1%D8%A7%D8%A6%D9%8A%D9%84                                                                                                                                                                                                                                                                149\n",
       "https://www.noonpost.org/content/3182                                                                                                                                                                                                                                                                                                                            149\n",
       "https://news.walla.co.il/item/2773048                                                                                                                                                                                                                                                                                                                            149\n",
       "https://www.bbc.com/news/world-middle-east-28252155                                                                                                                                                                                                                                                                                                              149\n",
       "https://www.haaretz.com/live-idf-aerial-assault-on-gaza-1.5198506                                                                                                                                                                                                                                                                                                149\n",
       "https://www.youtube.com/watch?v=BPzqZ5rSDkM                                                                                                                                                                                                                                                                                                                      149\n",
       "                                                                                                                                                                                                                                                                                                                                                                ... \n",
       "http://dogmagazine.info/vientre-c%C3%B3mo-protege-israel.html                                                                                                                                                                                                                                                                                                      1\n",
       "https://books.google.co.il/books?id=w7ZEDwAAQBAJ&pg=PA546&lpg=PA546&dq=%22%D8%A7%D9%84%D8%AD%D8%B1%D8%A8+%D8%B9%D9%84%D9%89+%D8%BA%D8%B2%D8%A9+%22&source=bl&ots=nKm212m0yQ&sig=QuoZwFj-TJRFbSc4HyEuPdi_Uj4&hl=iw&sa=X&ved=2ahUKEwjr3-mc49HfAhWR6aQKHbZUA5o4ZBDoATBHegQIIBAB                                                                                       1\n",
       "https://makronom.mandiner.hu/cikk/20181017_feszultseg_gazabol_elinditott_raketa_csapodott_be_izrael_teruleten                                                                                                                                                                                                                                                      1\n",
       "https://books.google.co.il/books?id=IfX8CgAAQBAJ&pg=PA41&lpg=PA41&dq=%22+Israel%E2%80%93Gaza+conflict%22&source=bl&ots=bB2Pu1nh6g&sig=XdHvfc07EBf3VfgGFIV0QiPAzfg&hl=iw&sa=X&ved=2ahUKEwiHv-_DkNDfAhVH3qQKHTr9AqY4rAIQ6AEwCnoECBsQAQ                                                                                                                               1\n",
       "https://uareads.club/2018/09/14/viiavlia%D1%94tsia-na-pitannia-chim-ti-zaraz-zaima%D1%94shsia-potr%D1%96bno-v%D1%96dpov%D1%96dati-dvoma-slovami-teper-ia-shasliva/                                                                                                                                                                                                 1\n",
       "http://free-cyclopedia-q.blendedlearning.co.id/en3/138-21/Konflik-Israel-Dan-Palestina_37910_upgris_free-cyclopedia-q-blendedlearning.html                                                                                                                                                                                                                         1\n",
       "https://minanews.net/hubungan-perdagangan-turkiisrael-terus-berkembang/                                                                                                                                                                                                                                                                                            1\n",
       "http://www.israel.cz/lang_cs/aktualita/1/11888/aktualita/9/index-2.html                                                                                                                                                                                                                                                                                            1\n",
       "https://stmegi.com/tv/archives/operatsiya_nerushimaya_skala_den_23_rakety_v_shkole_oon__3567/                                                                                                                                                                                                                                                                      1\n",
       "http://www.lilipot.ir/detail/733524/%D8%A8%D8%A7%D8%B2%DB%8C%DA%AF%D8%B1+%D9%87%D8%A7%D9%84%DB%8C%D9%88%D9%88%D8%AF+%D8%AF%D8%B1+%D8%A7%D8%B9%D8%AA%D8%B1%D8%A7%D8%B6+%D8%A8%D9%87+%DA%A9%D8%B4%D8%AA%D8%A7%D8%B1+%D9%85%D8%B1%D8%AF%D9%85+%D8%BA%D8%B2%D9%87+%D8%A7%D8%B2+...+-+%D8%AE%D8%A8%D8%B1%DA%AF%D8%B2%D8%A7%D8%B1%DB%8C+%D9%81%D8%A7%D8%B1%D8%B3         1\n",
       "http://batam.tribunnews.com/2012/11/20/tiga-kapal-perang-as-merapat-ke-israel                                                                                                                                                                                                                                                                                      1\n",
       "http://crownheights.info/chabad-news/629583/from-brooklyn-to-the-haredi-paratrooper-battalion/                                                                                                                                                                                                                                                                     1\n",
       "https://books.google.co.il/books?id=djoMBgAAQBAJ&pg=PA1&lpg=PA1&dq=%22%D7%9E%D7%91%D7%A6%D7%A2+%D7%A6%D7%95%D7%A7+%D7%90%D7%99%D7%AA%D7%9F%22&source=bl&ots=ot-NMco5xQ&sig=X7KWiSzadwdcoru3YgNpb6_s8P4&hl=iw&sa=X&ved=2ahUKEwjC14qllNHfAhWjsaQKHdInAPQ4rAIQ6AEwDXoECCAQAQ                                                                                          1\n",
       "https://reseauinternational.net/entretien-avec-christophe-oberlin-renvoye-devant-le-conseil-de-lordre-sous-la-pression-de-lassociation-des-medecins-israelites-de-france/                                                                                                                                                                                          1\n",
       "http://downwards.stevencrainford.com/psychologically-rhest-1/                                                                                                                                                                                                                                                                                                      1\n",
       "http://www.maricatrcek.com/vopsgya/f6xbqpl.php?aoosmqhix=mk-677-5-on-2-off                                                                                                                                                                                                                                                                                         1\n",
       "https://kilaskementerian.kompas.com/kementan/read/2018/07/06/11014681/israel-gunakan-demonstrasi-gaza-untuk-uji-coba-senjata-baru                                                                                                                                                                                                                                  1\n",
       "http://www.wikiwand.com/gl/David_Ben-Gurion                                                                                                                                                                                                                                                                                                                        1\n",
       "https://forum.b92.net/topic/29752-rat-u-gazi-i-libanu-objedinjeno/page-24                                                                                                                                                                                                                                                                                          1\n",
       "https://news.zing.vn/chien-dich-quan-su-tin-tuc/trang11.html                                                                                                                                                                                                                                                                                                       1\n",
       "https://www.radiosarajevo.ba/vijesti/svijet/astronaut-s-iss-a-snimio-rat-u-gazi-najtuznija-fotografija-iz-svemira/159753                                                                                                                                                                                                                                           1\n",
       "https://www.gulf365.co/iraq-news/1800681/%D9%85%D8%AC%D9%84%D8%B3-%D9%83%D8%B1%D9%83%D9%88%D9%83-%D9%8A%D8%AE%D9%81%D9%82-%D8%A8%D8%B9%D9%82%D8%AF-%D8%AC%D9%84%D8%B3%D8%A9-%D9%84%D8%A5%D9%82%D8%A7%D9%84%D8%A9-%D8%A7%D9%84%D8%B7%D8%A7%D9%84%D8%A8%D8%A7%D9%86%D9%8A-%D9%88%D8%AA%D8%B9%D9%8A%D9%8A%D9%86-%D8%A8%D8%AF%D9%8A%D9%84-%D8%B9%D9%86%D9%87.html      1\n",
       "https://www.gulf365.co/sudan-news-today/1775061/%D9%85%D9%82%D8%AA%D9%84-%D9%88%D8%A5%D8%B5%D8%A7%D8%A8%D8%A9-7-%D8%A3%D8%B4%D8%AE%D8%A7%D8%B5-%D8%A8%D9%8A%D9%86%D9%87%D9%85-%D8%B3%D9%88%D8%AF%D8%A7%D9%86%D9%8A-%D8%A8%D8%AC%D9%88%D8%A8%D8%A7.html                                                                                                             1\n",
       "https://pressfrom.info/fr/actualite/monde/-139453-un-accord-de-cessez-le-feu-entre-en-vigueur-a-gaza.html                                                                                                                                                                                                                                                          1\n",
       "http://saff.ba/rat-u-gazi-u-posljednja-24-sahata-poginula-4-izraelska-vojnika/                                                                                                                                                                                                                                                                                     1\n",
       "http://old.thecravory.com/israels_invasion_in_gaza.pdf                                                                                                                                                                                                                                                                                                             1\n",
       "https://books.google.co.il/books?id=fqY9DAAAQBAJ&pg=PT337&lpg=PT337&dq=%22+Israel%E2%80%93Gaza+conflict%22&source=bl&ots=i5q5WfWF82&sig=7h-zfIv-dRTitTqbjG2D6zj5Sds&hl=iw&sa=X&ved=2ahUKEwjCupy6xtHfAhVI2qQKHSYTCNU4rAIQ6AEwCnoECBgQAQ                                                                                                                             1\n",
       "https://books.google.co.il/books?id=N1ZECwAAQBAJ&pg=PA225&lpg=PA225&dq=%22+Israel%E2%80%93Gaza+conflict%22&source=bl&ots=sk9NFyUi9E&sig=hwHH96MUQypYs1j1DPdGM05YC0Q&hl=iw&sa=X&ved=2ahUKEwj-iprc5dPfAhURyaQKHXPQAUo4rAIQ6AEwCnoECBEQAQ                                                                                                                             1\n",
       "https://books.google.co.il/books?id=ujJ1DwAAQBAJ&pg=PT109&lpg=PT109&dq=%22%D8%A7%D9%84%D8%AD%D8%B1%D8%A8+%D8%B9%D9%84%D9%89+%D8%BA%D8%B2%D8%A9+%22&source=bl&ots=UZd_iXWAkt&sig=Kt0CN6tMfWReQQXLvCH3S_v4_zs&hl=iw&sa=X&ved=2ahUKEwjvueSli8vfAhXKhiwKHX-9DRw4ZBDoATAzegQINBAB                                                                                       1\n",
       "https://books.google.co.il/books?id=7Sk_AAAAQBAJ&pg=PA209&lpg=PA209&dq=%22+Israel%E2%80%93Gaza+conflict%22&source=bl&ots=5EGCw0goy5&sig=k_YteNHlDvr3D02Cpw2QSwTBHyE&hl=iw&sa=X&ved=2ahUKEwjO2Jvso8vfAhUC26QKHQrMBDM4rAIQ6AEwBHoECCEQAQ                                                                                                                             1\n",
       "Name: article_url, Length: 14852, dtype: int64"
      ]
     },
     "execution_count": 3,
     "metadata": {},
     "output_type": "execute_result"
    }
   ],
   "source": [
    "df.article_url.value_counts()"
   ]
  },
  {
   "cell_type": "code",
   "execution_count": 18,
   "metadata": {
    "ExecuteTime": {
     "end_time": "2019-01-14T13:01:59.437350Z",
     "start_time": "2019-01-14T13:01:59.383495Z"
    }
   },
   "outputs": [
    {
     "data": {
      "text/plain": [
       "(14853,)"
      ]
     },
     "execution_count": 18,
     "metadata": {},
     "output_type": "execute_result"
    }
   ],
   "source": [
    "df.article_url.unique().shape"
   ]
  },
  {
   "cell_type": "code",
   "execution_count": 21,
   "metadata": {
    "ExecuteTime": {
     "end_time": "2019-01-14T13:03:40.295443Z",
     "start_time": "2019-01-14T13:03:40.170755Z"
    }
   },
   "outputs": [],
   "source": [
    "np.savetxt('data/uris_unique.txt', df.article_url.unique(), fmt='%s')"
   ]
  },
  {
   "cell_type": "code",
   "execution_count": null,
   "metadata": {},
   "outputs": [],
   "source": []
  },
  {
   "cell_type": "code",
   "execution_count": 7,
   "metadata": {
    "ExecuteTime": {
     "end_time": "2019-01-20T11:58:15.566469Z",
     "start_time": "2019-01-20T11:58:15.549514Z"
    }
   },
   "outputs": [],
   "source": [
    "with open('data/uris_unique_cd.txt', 'r', encoding='utf-8') as f:\n",
    "    x = f.read().replace('\\n\\n', '!!!REPLACE ME WITH LINE BREAK!!!').replace('\\n', ' ').replace('!!!REPLACE ME WITH LINE BREAK!!!', '\\n')"
   ]
  },
  {
   "cell_type": "code",
   "execution_count": 23,
   "metadata": {
    "ExecuteTime": {
     "end_time": "2019-01-20T12:09:04.902813Z",
     "start_time": "2019-01-20T12:09:04.887192Z"
    }
   },
   "outputs": [],
   "source": [
    "js = [line for line in x.split('\\n')]"
   ]
  },
  {
   "cell_type": "code",
   "execution_count": 24,
   "metadata": {
    "ExecuteTime": {
     "end_time": "2019-01-20T12:09:05.480803Z",
     "start_time": "2019-01-20T12:09:05.465486Z"
    }
   },
   "outputs": [],
   "source": [
    "import json"
   ]
  },
  {
   "cell_type": "code",
   "execution_count": 26,
   "metadata": {
    "ExecuteTime": {
     "end_time": "2019-01-20T12:09:29.631428Z",
     "start_time": "2019-01-20T12:09:29.615795Z"
    }
   },
   "outputs": [
    {
     "data": {
      "text/plain": [
       "{'earliest-sources': ['web.archive.org'],\n",
       " 'estimated-creation-date': '2016-11-05T13:43:42',\n",
       " 'self': '',\n",
       " 'sources': {'backlinks': {'earliest': ''},\n",
       "  'bing.com': {'earliest': ''},\n",
       "  'bitly.com': {'earliest': ''},\n",
       "  'google.com': {'earliest': ''},\n",
       "  'last-modified': {'earliest': '2019-01-14T08:18:16'},\n",
       "  'pubdate': {'earliest': ''},\n",
       "  'twitter.com': {'earliest': ''},\n",
       "  'wayback.archive-it.org': {'earliest': '2017-10-06T15:42:49',\n",
       "   'memento-datetime': '2017-10-06T15:42:49',\n",
       "   'memento-pubdate': '',\n",
       "   'uri-m': 'http://wayback.archive-it.org/all/20171012111040/https://fa.wikipedia.org/wiki/%D9%86%D8%A8%D8%B1%D8%AF_%DB%B2%DB%B0%DB%B1%DB%B4_%D8%A7%D8%B3%D8%B1%D8%A7%D8%A6%DB%8C%D9%84_%D9%88_%D8%BA%D8%B2%D9%87'},\n",
       "  'web.archive.org': {'earliest': '2016-11-05T13:43:42',\n",
       "   'memento-datetime': '2016-11-05T13:43:42',\n",
       "   'memento-pubdate': '',\n",
       "   'uri-m': 'http://web.archive.org/web/20161107004140/https://fa.wikipedia.org/wiki/%D9%86%D8%A8%D8%B1%D8%AF_%DB%B2%DB%B0%DB%B1%DB%B4_%D8%A7%D8%B3%D8%B1%D8%A7%D8%A6%DB%8C%D9%84_%D9%88_%D8%BA%D8%B2%D9%87'}},\n",
       " 'uri': 'https://fa.wikipedia.org/wiki/%D9%86%D8%A8%D8%B1%D8%AF_%DB%B2%DB%B0%DB%B1%DB%B4_%D8%A7%D8%B3%D8%B1%D8%A7%D8%A6%DB%8C%D9%84_%D9%88_%D8%BA%D8%B2%D9%87'}"
      ]
     },
     "execution_count": 26,
     "metadata": {},
     "output_type": "execute_result"
    }
   ],
   "source": [
    "json.loads(js[0])"
   ]
  },
  {
   "cell_type": "code",
   "execution_count": 109,
   "metadata": {
    "ExecuteTime": {
     "end_time": "2019-01-20T12:51:04.745677Z",
     "start_time": "2019-01-20T12:51:04.714750Z"
    }
   },
   "outputs": [],
   "source": [
    "import collections\n",
    "\n",
    "def flatten(d, parent_key='', sep='_'):\n",
    "    items = []\n",
    "    for k, v in d.items():\n",
    "        new_key = parent_key + sep + k if parent_key else k\n",
    "        if isinstance(v, collections.MutableMapping):\n",
    "            items.extend(flatten(v, new_key, sep=sep).items())\n",
    "        elif isinstance(v, list):\n",
    "            items.append((new_key, ','.join(v)))\n",
    "        else:\n",
    "            items.append((new_key, v))\n",
    "    return dict(items)"
   ]
  },
  {
   "cell_type": "code",
   "execution_count": 110,
   "metadata": {
    "ExecuteTime": {
     "end_time": "2019-01-20T12:51:05.026862Z",
     "start_time": "2019-01-20T12:51:04.902258Z"
    }
   },
   "outputs": [
    {
     "name": "stdout",
     "output_type": "stream",
     "text": [
      "\n"
     ]
    }
   ],
   "source": [
    "c = []\n",
    "for j in js:\n",
    "    try:\n",
    "        c.append(flatten(json.loads(j)))\n",
    "    except:\n",
    "        print(j[:100])"
   ]
  },
  {
   "cell_type": "code",
   "execution_count": 111,
   "metadata": {
    "ExecuteTime": {
     "end_time": "2019-01-20T12:51:05.089342Z",
     "start_time": "2019-01-20T12:51:05.058310Z"
    }
   },
   "outputs": [
    {
     "data": {
      "text/plain": [
       "1190"
      ]
     },
     "execution_count": 111,
     "metadata": {},
     "output_type": "execute_result"
    }
   ],
   "source": [
    "len(c)"
   ]
  },
  {
   "cell_type": "code",
   "execution_count": 112,
   "metadata": {
    "ExecuteTime": {
     "end_time": "2019-01-20T12:51:05.245557Z",
     "start_time": "2019-01-20T12:51:05.229940Z"
    }
   },
   "outputs": [
    {
     "data": {
      "text/plain": [
       "array([ True, False, False,  True,  True,  True, False,  True,  True,\n",
       "        True, False,  True,  True,  True,  True,  True,  True,  True,\n",
       "        True, False,  True,  True,  True,  True, False,  True,  True,\n",
       "        True,  True, False,  True,  True,  True, False,  True,  True,\n",
       "        True, False, False])"
      ]
     },
     "execution_count": 112,
     "metadata": {},
     "output_type": "execute_result"
    }
   ],
   "source": [
    "cdf.columns.str.match('.*(earliest|creation_date|datetime|pubdate)')"
   ]
  },
  {
   "cell_type": "code",
   "execution_count": 113,
   "metadata": {
    "ExecuteTime": {
     "end_time": "2019-01-20T12:51:05.682991Z",
     "start_time": "2019-01-20T12:51:05.667335Z"
    }
   },
   "outputs": [],
   "source": [
    "def convert_datetime(df):\n",
    "    cols = df.columns[df.columns.str.match('.*(earliest|creation-date|datetime|pubdate)$')]\n",
    "    dt = df[cols].apply(pd.to_datetime)\n",
    "    df = df.copy()\n",
    "    df[cols] = dt\n",
    "    return df"
   ]
  },
  {
   "cell_type": "code",
   "execution_count": 114,
   "metadata": {
    "ExecuteTime": {
     "end_time": "2019-01-20T12:51:06.214291Z",
     "start_time": "2019-01-20T12:51:06.136383Z"
    }
   },
   "outputs": [],
   "source": [
    "cdf = (pd.DataFrame(c)\n",
    "       .pipe(convert_datetime))"
   ]
  },
  {
   "cell_type": "code",
   "execution_count": 115,
   "metadata": {
    "ExecuteTime": {
     "end_time": "2019-01-20T12:51:06.713963Z",
     "start_time": "2019-01-20T12:51:06.683059Z"
    }
   },
   "outputs": [
    {
     "data": {
      "text/plain": [
       "earliest-sources                                           object\n",
       "estimated-creation-date                            datetime64[ns]\n",
       "self                                                       object\n",
       "sources_archive.md_earliest                        datetime64[ns]\n",
       "sources_archive.md_memento-datetime                datetime64[ns]\n",
       "sources_archive.md_memento-pubdate                 datetime64[ns]\n",
       "sources_archive.md_uri-m                                   object\n",
       "sources_arquivo.pt_earliest                        datetime64[ns]\n",
       "sources_arquivo.pt_memento-datetime                datetime64[ns]\n",
       "sources_arquivo.pt_memento-pubdate                 datetime64[ns]\n",
       "sources_arquivo.pt_uri-m                                   object\n",
       "sources_backlinks_earliest                         datetime64[ns]\n",
       "sources_bing.com_earliest                          datetime64[ns]\n",
       "sources_bitly.com_earliest                         datetime64[ns]\n",
       "sources_google.com_earliest                        datetime64[ns]\n",
       "sources_last-modified_earliest                     datetime64[ns]\n",
       "sources_perma-archives.org_earliest                datetime64[ns]\n",
       "sources_perma-archives.org_memento-datetime        datetime64[ns]\n",
       "sources_perma-archives.org_memento-pubdate         datetime64[ns]\n",
       "sources_perma-archives.org_uri-m                           object\n",
       "sources_pubdate_earliest                           datetime64[ns]\n",
       "sources_swap.stanford.edu_earliest                 datetime64[ns]\n",
       "sources_swap.stanford.edu_memento-datetime         datetime64[ns]\n",
       "sources_swap.stanford.edu_memento-pubdate          datetime64[ns]\n",
       "sources_swap.stanford.edu_uri-m                            object\n",
       "sources_twitter.com_earliest                       datetime64[ns]\n",
       "sources_wayback.archive-it.org_earliest            datetime64[ns]\n",
       "sources_wayback.archive-it.org_memento-datetime    datetime64[ns]\n",
       "sources_wayback.archive-it.org_memento-pubdate     datetime64[ns]\n",
       "sources_wayback.archive-it.org_uri-m                       object\n",
       "sources_wayback.vefsafn.is_earliest                datetime64[ns]\n",
       "sources_wayback.vefsafn.is_memento-datetime        datetime64[ns]\n",
       "sources_wayback.vefsafn.is_memento-pubdate         datetime64[ns]\n",
       "sources_wayback.vefsafn.is_uri-m                           object\n",
       "sources_web.archive.org_earliest                   datetime64[ns]\n",
       "sources_web.archive.org_memento-datetime           datetime64[ns]\n",
       "sources_web.archive.org_memento-pubdate            datetime64[ns]\n",
       "sources_web.archive.org_uri-m                              object\n",
       "uri                                                        object\n",
       "dtype: object"
      ]
     },
     "execution_count": 115,
     "metadata": {},
     "output_type": "execute_result"
    }
   ],
   "source": [
    "cdf.dtypes"
   ]
  },
  {
   "cell_type": "code",
   "execution_count": 116,
   "metadata": {
    "ExecuteTime": {
     "end_time": "2019-01-20T12:51:10.962971Z",
     "start_time": "2019-01-20T12:51:10.916110Z"
    }
   },
   "outputs": [
    {
     "data": {
      "text/html": [
       "<div>\n",
       "<style scoped>\n",
       "    .dataframe tbody tr th:only-of-type {\n",
       "        vertical-align: middle;\n",
       "    }\n",
       "\n",
       "    .dataframe tbody tr th {\n",
       "        vertical-align: top;\n",
       "    }\n",
       "\n",
       "    .dataframe thead th {\n",
       "        text-align: right;\n",
       "    }\n",
       "</style>\n",
       "<table border=\"1\" class=\"dataframe\">\n",
       "  <thead>\n",
       "    <tr style=\"text-align: right;\">\n",
       "      <th></th>\n",
       "      <th>earliest-sources</th>\n",
       "      <th>estimated-creation-date</th>\n",
       "      <th>self</th>\n",
       "      <th>sources_archive.md_earliest</th>\n",
       "      <th>sources_archive.md_memento-datetime</th>\n",
       "      <th>sources_archive.md_memento-pubdate</th>\n",
       "      <th>sources_archive.md_uri-m</th>\n",
       "      <th>sources_arquivo.pt_earliest</th>\n",
       "      <th>sources_arquivo.pt_memento-datetime</th>\n",
       "      <th>sources_arquivo.pt_memento-pubdate</th>\n",
       "      <th>...</th>\n",
       "      <th>sources_wayback.archive-it.org_uri-m</th>\n",
       "      <th>sources_wayback.vefsafn.is_earliest</th>\n",
       "      <th>sources_wayback.vefsafn.is_memento-datetime</th>\n",
       "      <th>sources_wayback.vefsafn.is_memento-pubdate</th>\n",
       "      <th>sources_wayback.vefsafn.is_uri-m</th>\n",
       "      <th>sources_web.archive.org_earliest</th>\n",
       "      <th>sources_web.archive.org_memento-datetime</th>\n",
       "      <th>sources_web.archive.org_memento-pubdate</th>\n",
       "      <th>sources_web.archive.org_uri-m</th>\n",
       "      <th>uri</th>\n",
       "    </tr>\n",
       "  </thead>\n",
       "  <tbody>\n",
       "    <tr>\n",
       "      <th>0</th>\n",
       "      <td>web.archive.org</td>\n",
       "      <td>2016-11-05 13:43:42</td>\n",
       "      <td></td>\n",
       "      <td>NaT</td>\n",
       "      <td>NaT</td>\n",
       "      <td>NaT</td>\n",
       "      <td>NaN</td>\n",
       "      <td>NaT</td>\n",
       "      <td>NaT</td>\n",
       "      <td>NaT</td>\n",
       "      <td>...</td>\n",
       "      <td>http://wayback.archive-it.org/all/201710121110...</td>\n",
       "      <td>NaT</td>\n",
       "      <td>NaT</td>\n",
       "      <td>NaT</td>\n",
       "      <td>NaN</td>\n",
       "      <td>2016-11-05 13:43:42</td>\n",
       "      <td>2016-11-05 13:43:42</td>\n",
       "      <td>NaT</td>\n",
       "      <td>http://web.archive.org/web/20161107004140/http...</td>\n",
       "      <td>https://fa.wikipedia.org/wiki/%D9%86%D8%A8%D8%...</td>\n",
       "    </tr>\n",
       "    <tr>\n",
       "      <th>1</th>\n",
       "      <td>last-modified</td>\n",
       "      <td>2019-01-09 19:14:01</td>\n",
       "      <td></td>\n",
       "      <td>NaT</td>\n",
       "      <td>NaT</td>\n",
       "      <td>NaT</td>\n",
       "      <td>NaN</td>\n",
       "      <td>NaT</td>\n",
       "      <td>NaT</td>\n",
       "      <td>NaT</td>\n",
       "      <td>...</td>\n",
       "      <td>NaN</td>\n",
       "      <td>NaT</td>\n",
       "      <td>NaT</td>\n",
       "      <td>NaT</td>\n",
       "      <td>NaN</td>\n",
       "      <td>NaT</td>\n",
       "      <td>NaT</td>\n",
       "      <td>NaT</td>\n",
       "      <td>NaN</td>\n",
       "      <td>https://fa.wikipedia.org/wiki/%D8%B1%D9%88%D8%...</td>\n",
       "    </tr>\n",
       "    <tr>\n",
       "      <th>2</th>\n",
       "      <td>web.archive.org</td>\n",
       "      <td>2012-10-03 07:54:12</td>\n",
       "      <td></td>\n",
       "      <td>NaT</td>\n",
       "      <td>NaT</td>\n",
       "      <td>NaT</td>\n",
       "      <td>NaN</td>\n",
       "      <td>NaT</td>\n",
       "      <td>NaT</td>\n",
       "      <td>NaT</td>\n",
       "      <td>...</td>\n",
       "      <td>NaN</td>\n",
       "      <td>NaT</td>\n",
       "      <td>NaT</td>\n",
       "      <td>NaT</td>\n",
       "      <td>NaN</td>\n",
       "      <td>2012-10-03 07:54:12</td>\n",
       "      <td>2012-10-03 07:54:12</td>\n",
       "      <td>NaT</td>\n",
       "      <td>http://web.archive.org/web/20121021183844/http...</td>\n",
       "      <td>https://fa.wikipedia.org/wiki/%D9%88%D8%A7%DA%...</td>\n",
       "    </tr>\n",
       "    <tr>\n",
       "      <th>3</th>\n",
       "      <td>last-modified</td>\n",
       "      <td>2018-12-31 13:07:19</td>\n",
       "      <td></td>\n",
       "      <td>NaT</td>\n",
       "      <td>NaT</td>\n",
       "      <td>NaT</td>\n",
       "      <td>NaN</td>\n",
       "      <td>NaT</td>\n",
       "      <td>NaT</td>\n",
       "      <td>NaT</td>\n",
       "      <td>...</td>\n",
       "      <td>NaN</td>\n",
       "      <td>NaT</td>\n",
       "      <td>NaT</td>\n",
       "      <td>NaT</td>\n",
       "      <td>NaN</td>\n",
       "      <td>NaT</td>\n",
       "      <td>NaT</td>\n",
       "      <td>NaT</td>\n",
       "      <td>NaN</td>\n",
       "      <td>https://fa.wikipedia.org/wiki/%D8%B1%D8%AF%D9%...</td>\n",
       "    </tr>\n",
       "    <tr>\n",
       "      <th>4</th>\n",
       "      <td>web.archive.org</td>\n",
       "      <td>2014-08-25 15:38:42</td>\n",
       "      <td></td>\n",
       "      <td>NaT</td>\n",
       "      <td>NaT</td>\n",
       "      <td>NaT</td>\n",
       "      <td>NaN</td>\n",
       "      <td>NaT</td>\n",
       "      <td>NaT</td>\n",
       "      <td>NaT</td>\n",
       "      <td>...</td>\n",
       "      <td>NaN</td>\n",
       "      <td>NaT</td>\n",
       "      <td>NaT</td>\n",
       "      <td>NaT</td>\n",
       "      <td>NaN</td>\n",
       "      <td>2014-08-25 15:38:42</td>\n",
       "      <td>2014-08-25 15:38:42</td>\n",
       "      <td>NaT</td>\n",
       "      <td>http://web.archive.org/web/20140916060214/http...</td>\n",
       "      <td>https://fa.wikipedia.org/wiki/%D8%AD%D9%85%D9%...</td>\n",
       "    </tr>\n",
       "  </tbody>\n",
       "</table>\n",
       "<p>5 rows × 39 columns</p>\n",
       "</div>"
      ],
      "text/plain": [
       "  earliest-sources estimated-creation-date self sources_archive.md_earliest  \\\n",
       "0  web.archive.org     2016-11-05 13:43:42                              NaT   \n",
       "1    last-modified     2019-01-09 19:14:01                              NaT   \n",
       "2  web.archive.org     2012-10-03 07:54:12                              NaT   \n",
       "3    last-modified     2018-12-31 13:07:19                              NaT   \n",
       "4  web.archive.org     2014-08-25 15:38:42                              NaT   \n",
       "\n",
       "  sources_archive.md_memento-datetime sources_archive.md_memento-pubdate  \\\n",
       "0                                 NaT                                NaT   \n",
       "1                                 NaT                                NaT   \n",
       "2                                 NaT                                NaT   \n",
       "3                                 NaT                                NaT   \n",
       "4                                 NaT                                NaT   \n",
       "\n",
       "  sources_archive.md_uri-m sources_arquivo.pt_earliest  \\\n",
       "0                      NaN                         NaT   \n",
       "1                      NaN                         NaT   \n",
       "2                      NaN                         NaT   \n",
       "3                      NaN                         NaT   \n",
       "4                      NaN                         NaT   \n",
       "\n",
       "  sources_arquivo.pt_memento-datetime sources_arquivo.pt_memento-pubdate  \\\n",
       "0                                 NaT                                NaT   \n",
       "1                                 NaT                                NaT   \n",
       "2                                 NaT                                NaT   \n",
       "3                                 NaT                                NaT   \n",
       "4                                 NaT                                NaT   \n",
       "\n",
       "                         ...                          \\\n",
       "0                        ...                           \n",
       "1                        ...                           \n",
       "2                        ...                           \n",
       "3                        ...                           \n",
       "4                        ...                           \n",
       "\n",
       "                sources_wayback.archive-it.org_uri-m  \\\n",
       "0  http://wayback.archive-it.org/all/201710121110...   \n",
       "1                                                NaN   \n",
       "2                                                NaN   \n",
       "3                                                NaN   \n",
       "4                                                NaN   \n",
       "\n",
       "  sources_wayback.vefsafn.is_earliest  \\\n",
       "0                                 NaT   \n",
       "1                                 NaT   \n",
       "2                                 NaT   \n",
       "3                                 NaT   \n",
       "4                                 NaT   \n",
       "\n",
       "  sources_wayback.vefsafn.is_memento-datetime  \\\n",
       "0                                         NaT   \n",
       "1                                         NaT   \n",
       "2                                         NaT   \n",
       "3                                         NaT   \n",
       "4                                         NaT   \n",
       "\n",
       "  sources_wayback.vefsafn.is_memento-pubdate sources_wayback.vefsafn.is_uri-m  \\\n",
       "0                                        NaT                              NaN   \n",
       "1                                        NaT                              NaN   \n",
       "2                                        NaT                              NaN   \n",
       "3                                        NaT                              NaN   \n",
       "4                                        NaT                              NaN   \n",
       "\n",
       "  sources_web.archive.org_earliest sources_web.archive.org_memento-datetime  \\\n",
       "0              2016-11-05 13:43:42                      2016-11-05 13:43:42   \n",
       "1                              NaT                                      NaT   \n",
       "2              2012-10-03 07:54:12                      2012-10-03 07:54:12   \n",
       "3                              NaT                                      NaT   \n",
       "4              2014-08-25 15:38:42                      2014-08-25 15:38:42   \n",
       "\n",
       "  sources_web.archive.org_memento-pubdate  \\\n",
       "0                                     NaT   \n",
       "1                                     NaT   \n",
       "2                                     NaT   \n",
       "3                                     NaT   \n",
       "4                                     NaT   \n",
       "\n",
       "                       sources_web.archive.org_uri-m  \\\n",
       "0  http://web.archive.org/web/20161107004140/http...   \n",
       "1                                                NaN   \n",
       "2  http://web.archive.org/web/20121021183844/http...   \n",
       "3                                                NaN   \n",
       "4  http://web.archive.org/web/20140916060214/http...   \n",
       "\n",
       "                                                 uri  \n",
       "0  https://fa.wikipedia.org/wiki/%D9%86%D8%A8%D8%...  \n",
       "1  https://fa.wikipedia.org/wiki/%D8%B1%D9%88%D8%...  \n",
       "2  https://fa.wikipedia.org/wiki/%D9%88%D8%A7%DA%...  \n",
       "3  https://fa.wikipedia.org/wiki/%D8%B1%D8%AF%D9%...  \n",
       "4  https://fa.wikipedia.org/wiki/%D8%AD%D9%85%D9%...  \n",
       "\n",
       "[5 rows x 39 columns]"
      ]
     },
     "execution_count": 116,
     "metadata": {},
     "output_type": "execute_result"
    }
   ],
   "source": [
    "cdf.head()"
   ]
  },
  {
   "cell_type": "code",
   "execution_count": 137,
   "metadata": {
    "ExecuteTime": {
     "end_time": "2019-01-20T13:00:21.584615Z",
     "start_time": "2019-01-20T13:00:20.381563Z"
    }
   },
   "outputs": [
    {
     "name": "stdout",
     "output_type": "stream",
     "text": [
      "\n",
      "\n",
      "\n",
      "\n",
      "\n",
      "{\n",
      "    \"self\": \"\",\n",
      "    \"uri\": \"https://en.wikipedia.org/wiki/Civilian_casualty_ratio\",\n",
      "    \"estimated\n",
      "\n",
      "\n",
      "\n",
      "\n",
      "\n",
      "\n",
      "\n",
      "\n"
     ]
    }
   ],
   "source": [
    "import glob\n",
    "\n",
    "all_js = []\n",
    "\n",
    "for path in glob.glob('data/uris_unique_cd*.txt'):\n",
    "    with open(path, 'r', encoding='utf-8') as f:\n",
    "         js = [line for line in f.read().split('\\n\\n')]\n",
    "    all_js.extend(js)\n",
    "    \n",
    "\n",
    "c = []\n",
    "for j in all_js:\n",
    "    try:\n",
    "        c.append(flatten(json.loads(j)))\n",
    "    except:\n",
    "        print(j[:100])\n",
    "        \n",
    "cdf = (pd.DataFrame(c)\n",
    "       .pipe(convert_datetime))\n",
    "    "
   ]
  },
  {
   "cell_type": "code",
   "execution_count": 138,
   "metadata": {
    "ExecuteTime": {
     "end_time": "2019-01-20T13:00:29.254533Z",
     "start_time": "2019-01-20T13:00:29.238870Z"
    }
   },
   "outputs": [
    {
     "data": {
      "text/plain": [
       "earliest-sources                                           object\n",
       "estimated-creation-date                            datetime64[ns]\n",
       "self                                                       object\n",
       "sources_archive.md_earliest                        datetime64[ns]\n",
       "sources_archive.md_memento-datetime                datetime64[ns]\n",
       "sources_archive.md_memento-pubdate                 datetime64[ns]\n",
       "sources_archive.md_uri-m                                   object\n",
       "sources_archives_earliest                          datetime64[ns]\n",
       "sources_arquivo.pt_earliest                        datetime64[ns]\n",
       "sources_arquivo.pt_memento-datetime                datetime64[ns]\n",
       "sources_arquivo.pt_memento-pubdate                 datetime64[ns]\n",
       "sources_arquivo.pt_uri-m                                   object\n",
       "sources_backlinks_earliest                         datetime64[ns]\n",
       "sources_bing.com_earliest                          datetime64[ns]\n",
       "sources_bitly.com_earliest                         datetime64[ns]\n",
       "sources_google.com_earliest                        datetime64[ns]\n",
       "sources_last-modified_earliest                     datetime64[ns]\n",
       "sources_perma-archives.org_earliest                datetime64[ns]\n",
       "sources_perma-archives.org_memento-datetime        datetime64[ns]\n",
       "sources_perma-archives.org_memento-pubdate         datetime64[ns]\n",
       "sources_perma-archives.org_uri-m                           object\n",
       "sources_pubdate_earliest                           datetime64[ns]\n",
       "sources_swap.stanford.edu_earliest                 datetime64[ns]\n",
       "sources_swap.stanford.edu_memento-datetime         datetime64[ns]\n",
       "sources_swap.stanford.edu_memento-pubdate          datetime64[ns]\n",
       "sources_swap.stanford.edu_uri-m                            object\n",
       "sources_twitter.com_earliest                       datetime64[ns]\n",
       "sources_wayback.archive-it.org_earliest            datetime64[ns]\n",
       "sources_wayback.archive-it.org_memento-datetime    datetime64[ns]\n",
       "sources_wayback.archive-it.org_memento-pubdate     datetime64[ns]\n",
       "sources_wayback.archive-it.org_uri-m                       object\n",
       "sources_wayback.vefsafn.is_earliest                datetime64[ns]\n",
       "sources_wayback.vefsafn.is_memento-datetime        datetime64[ns]\n",
       "sources_wayback.vefsafn.is_memento-pubdate         datetime64[ns]\n",
       "sources_wayback.vefsafn.is_uri-m                           object\n",
       "sources_web.archive.org_earliest                   datetime64[ns]\n",
       "sources_web.archive.org_memento-datetime           datetime64[ns]\n",
       "sources_web.archive.org_memento-pubdate            datetime64[ns]\n",
       "sources_web.archive.org_uri-m                              object\n",
       "uri                                                        object\n",
       "dtype: object"
      ]
     },
     "execution_count": 138,
     "metadata": {},
     "output_type": "execute_result"
    }
   ],
   "source": [
    "cdf.dtypes"
   ]
  },
  {
   "cell_type": "code",
   "execution_count": 139,
   "metadata": {
    "ExecuteTime": {
     "end_time": "2019-01-20T13:00:29.816861Z",
     "start_time": "2019-01-20T13:00:29.801238Z"
    }
   },
   "outputs": [
    {
     "data": {
      "text/plain": [
       "(14737, 40)"
      ]
     },
     "execution_count": 139,
     "metadata": {},
     "output_type": "execute_result"
    }
   ],
   "source": [
    "cdf.shape"
   ]
  },
  {
   "cell_type": "code",
   "execution_count": 140,
   "metadata": {
    "ExecuteTime": {
     "end_time": "2019-01-20T13:00:30.691657Z",
     "start_time": "2019-01-20T13:00:30.660620Z"
    }
   },
   "outputs": [
    {
     "data": {
      "text/plain": [
       "14737"
      ]
     },
     "execution_count": 140,
     "metadata": {},
     "output_type": "execute_result"
    }
   ],
   "source": [
    "cdf.uri.nunique()"
   ]
  },
  {
   "cell_type": "code",
   "execution_count": 141,
   "metadata": {
    "ExecuteTime": {
     "end_time": "2019-01-20T13:00:33.550401Z",
     "start_time": "2019-01-20T13:00:33.519537Z"
    }
   },
   "outputs": [
    {
     "data": {
      "text/plain": [
       "(0, 40)"
      ]
     },
     "execution_count": 141,
     "metadata": {},
     "output_type": "execute_result"
    }
   ],
   "source": [
    "cdf[cdf['uri'].isna()].shape"
   ]
  },
  {
   "cell_type": "code",
   "execution_count": 142,
   "metadata": {
    "ExecuteTime": {
     "end_time": "2019-01-20T13:00:35.003149Z",
     "start_time": "2019-01-20T13:00:34.987529Z"
    }
   },
   "outputs": [
    {
     "data": {
      "text/plain": [
       "(5615, 40)"
      ]
     },
     "execution_count": 142,
     "metadata": {},
     "output_type": "execute_result"
    }
   ],
   "source": [
    "cdf[cdf['estimated-creation-date'].isna()].shape"
   ]
  },
  {
   "cell_type": "code",
   "execution_count": 143,
   "metadata": {
    "ExecuteTime": {
     "end_time": "2019-01-20T13:00:36.643390Z",
     "start_time": "2019-01-20T13:00:36.581343Z"
    }
   },
   "outputs": [
    {
     "data": {
      "text/plain": [
       "(14737,)"
      ]
     },
     "execution_count": 143,
     "metadata": {},
     "output_type": "execute_result"
    }
   ],
   "source": [
    "cdf.groupby('uri')['estimated-creation-date'].min().shape"
   ]
  },
  {
   "cell_type": "code",
   "execution_count": 144,
   "metadata": {
    "ExecuteTime": {
     "end_time": "2019-01-20T13:00:38.658757Z",
     "start_time": "2019-01-20T13:00:38.549197Z"
    }
   },
   "outputs": [],
   "source": [
    "df['estimated_creation_date'] = df.article_url.map(cdf.groupby('uri')['estimated-creation-date'].min())"
   ]
  },
  {
   "cell_type": "code",
   "execution_count": 145,
   "metadata": {
    "ExecuteTime": {
     "end_time": "2019-01-20T13:00:40.048845Z",
     "start_time": "2019-01-20T13:00:40.017603Z"
    }
   },
   "outputs": [
    {
     "data": {
      "text/plain": [
       "(60622, 13)"
      ]
     },
     "execution_count": 145,
     "metadata": {},
     "output_type": "execute_result"
    }
   ],
   "source": [
    "df[(df.estimated_creation_date>='2014-07-08') & (df.estimated_creation_date<='2014-08-31')].shape"
   ]
  },
  {
   "cell_type": "code",
   "execution_count": 152,
   "metadata": {
    "ExecuteTime": {
     "end_time": "2019-01-20T13:11:22.443127Z",
     "start_time": "2019-01-20T13:11:22.411884Z"
    }
   },
   "outputs": [
    {
     "data": {
      "text/plain": [
       "(36292, 13)"
      ]
     },
     "execution_count": 152,
     "metadata": {},
     "output_type": "execute_result"
    }
   ],
   "source": [
    "df[df.estimated_creation_date.isna()].shape"
   ]
  },
  {
   "cell_type": "code",
   "execution_count": 146,
   "metadata": {
    "ExecuteTime": {
     "end_time": "2019-01-20T13:00:44.641522Z",
     "start_time": "2019-01-20T13:00:44.595087Z"
    }
   },
   "outputs": [
    {
     "data": {
      "text/plain": [
       "(5731,)"
      ]
     },
     "execution_count": 146,
     "metadata": {},
     "output_type": "execute_result"
    }
   ],
   "source": [
    "df[df.estimated_creation_date.isna()].article_url.unique().shape"
   ]
  },
  {
   "cell_type": "code",
   "execution_count": 147,
   "metadata": {
    "ExecuteTime": {
     "end_time": "2019-01-20T13:00:48.359406Z",
     "start_time": "2019-01-20T13:00:48.328579Z"
    }
   },
   "outputs": [
    {
     "data": {
      "text/plain": [
       "(198219, 13)"
      ]
     },
     "execution_count": 147,
     "metadata": {},
     "output_type": "execute_result"
    }
   ],
   "source": [
    "df.shape"
   ]
  },
  {
   "cell_type": "code",
   "execution_count": 148,
   "metadata": {
    "ExecuteTime": {
     "end_time": "2019-01-20T13:01:41.534531Z",
     "start_time": "2019-01-20T13:01:41.472427Z"
    }
   },
   "outputs": [
    {
     "data": {
      "text/html": [
       "<div>\n",
       "<style scoped>\n",
       "    .dataframe tbody tr th:only-of-type {\n",
       "        vertical-align: middle;\n",
       "    }\n",
       "\n",
       "    .dataframe tbody tr th {\n",
       "        vertical-align: top;\n",
       "    }\n",
       "\n",
       "    .dataframe thead th {\n",
       "        text-align: right;\n",
       "    }\n",
       "</style>\n",
       "<table border=\"1\" class=\"dataframe\">\n",
       "  <thead>\n",
       "    <tr style=\"text-align: right;\">\n",
       "      <th></th>\n",
       "      <th>earliest-sources</th>\n",
       "      <th>estimated-creation-date</th>\n",
       "      <th>self</th>\n",
       "      <th>sources_archive.md_earliest</th>\n",
       "      <th>sources_archive.md_memento-datetime</th>\n",
       "      <th>sources_archive.md_memento-pubdate</th>\n",
       "      <th>sources_archive.md_uri-m</th>\n",
       "      <th>sources_archives_earliest</th>\n",
       "      <th>sources_arquivo.pt_earliest</th>\n",
       "      <th>sources_arquivo.pt_memento-datetime</th>\n",
       "      <th>...</th>\n",
       "      <th>sources_wayback.archive-it.org_uri-m</th>\n",
       "      <th>sources_wayback.vefsafn.is_earliest</th>\n",
       "      <th>sources_wayback.vefsafn.is_memento-datetime</th>\n",
       "      <th>sources_wayback.vefsafn.is_memento-pubdate</th>\n",
       "      <th>sources_wayback.vefsafn.is_uri-m</th>\n",
       "      <th>sources_web.archive.org_earliest</th>\n",
       "      <th>sources_web.archive.org_memento-datetime</th>\n",
       "      <th>sources_web.archive.org_memento-pubdate</th>\n",
       "      <th>sources_web.archive.org_uri-m</th>\n",
       "      <th>uri</th>\n",
       "    </tr>\n",
       "  </thead>\n",
       "  <tbody>\n",
       "    <tr>\n",
       "      <th>10</th>\n",
       "      <td></td>\n",
       "      <td>NaT</td>\n",
       "      <td></td>\n",
       "      <td>NaT</td>\n",
       "      <td>NaT</td>\n",
       "      <td>NaT</td>\n",
       "      <td>NaN</td>\n",
       "      <td>NaT</td>\n",
       "      <td>NaT</td>\n",
       "      <td>NaT</td>\n",
       "      <td>...</td>\n",
       "      <td>NaN</td>\n",
       "      <td>NaT</td>\n",
       "      <td>NaT</td>\n",
       "      <td>NaT</td>\n",
       "      <td>NaN</td>\n",
       "      <td>NaT</td>\n",
       "      <td>NaT</td>\n",
       "      <td>NaT</td>\n",
       "      <td>NaN</td>\n",
       "      <td>https://www.wikizero.com/fa/%D9%86%D8%A8%D8%B1...</td>\n",
       "    </tr>\n",
       "    <tr>\n",
       "      <th>11</th>\n",
       "      <td></td>\n",
       "      <td>NaT</td>\n",
       "      <td></td>\n",
       "      <td>NaT</td>\n",
       "      <td>NaT</td>\n",
       "      <td>NaT</td>\n",
       "      <td>NaN</td>\n",
       "      <td>NaT</td>\n",
       "      <td>NaT</td>\n",
       "      <td>NaT</td>\n",
       "      <td>...</td>\n",
       "      <td>NaN</td>\n",
       "      <td>NaT</td>\n",
       "      <td>NaT</td>\n",
       "      <td>NaT</td>\n",
       "      <td>NaN</td>\n",
       "      <td>NaT</td>\n",
       "      <td>NaT</td>\n",
       "      <td>NaT</td>\n",
       "      <td>NaN</td>\n",
       "      <td>http://www.wikizeroo.net/wiki/fa/%D9%86%D8%A8%...</td>\n",
       "    </tr>\n",
       "    <tr>\n",
       "      <th>12</th>\n",
       "      <td></td>\n",
       "      <td>NaT</td>\n",
       "      <td></td>\n",
       "      <td>NaT</td>\n",
       "      <td>NaT</td>\n",
       "      <td>NaT</td>\n",
       "      <td>NaN</td>\n",
       "      <td>NaT</td>\n",
       "      <td>NaT</td>\n",
       "      <td>NaT</td>\n",
       "      <td>...</td>\n",
       "      <td>NaN</td>\n",
       "      <td>NaT</td>\n",
       "      <td>NaT</td>\n",
       "      <td>NaT</td>\n",
       "      <td>NaN</td>\n",
       "      <td>NaT</td>\n",
       "      <td>NaT</td>\n",
       "      <td>NaT</td>\n",
       "      <td>NaN</td>\n",
       "      <td>http://www.wikiwand.com/fa/%D9%86%D8%A8%D8%B1%...</td>\n",
       "    </tr>\n",
       "    <tr>\n",
       "      <th>43</th>\n",
       "      <td></td>\n",
       "      <td>NaT</td>\n",
       "      <td></td>\n",
       "      <td>NaT</td>\n",
       "      <td>NaT</td>\n",
       "      <td>NaT</td>\n",
       "      <td>NaN</td>\n",
       "      <td>NaT</td>\n",
       "      <td>NaT</td>\n",
       "      <td>NaT</td>\n",
       "      <td>...</td>\n",
       "      <td>NaN</td>\n",
       "      <td>NaT</td>\n",
       "      <td>NaT</td>\n",
       "      <td>NaT</td>\n",
       "      <td>NaN</td>\n",
       "      <td>NaT</td>\n",
       "      <td>NaT</td>\n",
       "      <td>NaT</td>\n",
       "      <td>NaN</td>\n",
       "      <td>https://fa.wikipedia.org/wiki/%D9%BE%D8%B1%D9%...</td>\n",
       "    </tr>\n",
       "    <tr>\n",
       "      <th>49</th>\n",
       "      <td></td>\n",
       "      <td>NaT</td>\n",
       "      <td></td>\n",
       "      <td>NaT</td>\n",
       "      <td>NaT</td>\n",
       "      <td>NaT</td>\n",
       "      <td>NaN</td>\n",
       "      <td>NaT</td>\n",
       "      <td>NaT</td>\n",
       "      <td>NaT</td>\n",
       "      <td>...</td>\n",
       "      <td>NaN</td>\n",
       "      <td>NaT</td>\n",
       "      <td>NaT</td>\n",
       "      <td>NaT</td>\n",
       "      <td>NaN</td>\n",
       "      <td>NaT</td>\n",
       "      <td>NaT</td>\n",
       "      <td>NaT</td>\n",
       "      <td>NaN</td>\n",
       "      <td>https://he.wikipedia.org/wiki/%D7%A7%D7%95%D7%...</td>\n",
       "    </tr>\n",
       "  </tbody>\n",
       "</table>\n",
       "<p>5 rows × 40 columns</p>\n",
       "</div>"
      ],
      "text/plain": [
       "   earliest-sources estimated-creation-date self sources_archive.md_earliest  \\\n",
       "10                                      NaT                              NaT   \n",
       "11                                      NaT                              NaT   \n",
       "12                                      NaT                              NaT   \n",
       "43                                      NaT                              NaT   \n",
       "49                                      NaT                              NaT   \n",
       "\n",
       "   sources_archive.md_memento-datetime sources_archive.md_memento-pubdate  \\\n",
       "10                                 NaT                                NaT   \n",
       "11                                 NaT                                NaT   \n",
       "12                                 NaT                                NaT   \n",
       "43                                 NaT                                NaT   \n",
       "49                                 NaT                                NaT   \n",
       "\n",
       "   sources_archive.md_uri-m sources_archives_earliest  \\\n",
       "10                      NaN                       NaT   \n",
       "11                      NaN                       NaT   \n",
       "12                      NaN                       NaT   \n",
       "43                      NaN                       NaT   \n",
       "49                      NaN                       NaT   \n",
       "\n",
       "   sources_arquivo.pt_earliest sources_arquivo.pt_memento-datetime  \\\n",
       "10                         NaT                                 NaT   \n",
       "11                         NaT                                 NaT   \n",
       "12                         NaT                                 NaT   \n",
       "43                         NaT                                 NaT   \n",
       "49                         NaT                                 NaT   \n",
       "\n",
       "                          ...                          \\\n",
       "10                        ...                           \n",
       "11                        ...                           \n",
       "12                        ...                           \n",
       "43                        ...                           \n",
       "49                        ...                           \n",
       "\n",
       "   sources_wayback.archive-it.org_uri-m sources_wayback.vefsafn.is_earliest  \\\n",
       "10                                  NaN                                 NaT   \n",
       "11                                  NaN                                 NaT   \n",
       "12                                  NaN                                 NaT   \n",
       "43                                  NaN                                 NaT   \n",
       "49                                  NaN                                 NaT   \n",
       "\n",
       "   sources_wayback.vefsafn.is_memento-datetime  \\\n",
       "10                                         NaT   \n",
       "11                                         NaT   \n",
       "12                                         NaT   \n",
       "43                                         NaT   \n",
       "49                                         NaT   \n",
       "\n",
       "   sources_wayback.vefsafn.is_memento-pubdate  \\\n",
       "10                                        NaT   \n",
       "11                                        NaT   \n",
       "12                                        NaT   \n",
       "43                                        NaT   \n",
       "49                                        NaT   \n",
       "\n",
       "   sources_wayback.vefsafn.is_uri-m sources_web.archive.org_earliest  \\\n",
       "10                              NaN                              NaT   \n",
       "11                              NaN                              NaT   \n",
       "12                              NaN                              NaT   \n",
       "43                              NaN                              NaT   \n",
       "49                              NaN                              NaT   \n",
       "\n",
       "   sources_web.archive.org_memento-datetime  \\\n",
       "10                                      NaT   \n",
       "11                                      NaT   \n",
       "12                                      NaT   \n",
       "43                                      NaT   \n",
       "49                                      NaT   \n",
       "\n",
       "   sources_web.archive.org_memento-pubdate sources_web.archive.org_uri-m  \\\n",
       "10                                     NaT                           NaN   \n",
       "11                                     NaT                           NaN   \n",
       "12                                     NaT                           NaN   \n",
       "43                                     NaT                           NaN   \n",
       "49                                     NaT                           NaN   \n",
       "\n",
       "                                                  uri  \n",
       "10  https://www.wikizero.com/fa/%D9%86%D8%A8%D8%B1...  \n",
       "11  http://www.wikizeroo.net/wiki/fa/%D9%86%D8%A8%...  \n",
       "12  http://www.wikiwand.com/fa/%D9%86%D8%A8%D8%B1%...  \n",
       "43  https://fa.wikipedia.org/wiki/%D9%BE%D8%B1%D9%...  \n",
       "49  https://he.wikipedia.org/wiki/%D7%A7%D7%95%D7%...  \n",
       "\n",
       "[5 rows x 40 columns]"
      ]
     },
     "execution_count": 148,
     "metadata": {},
     "output_type": "execute_result"
    }
   ],
   "source": [
    "cdf[cdf['estimated-creation-date'].isna()].head()"
   ]
  },
  {
   "cell_type": "code",
   "execution_count": 151,
   "metadata": {
    "ExecuteTime": {
     "end_time": "2019-01-20T13:11:03.697727Z",
     "start_time": "2019-01-20T13:10:46.264073Z"
    }
   },
   "outputs": [],
   "source": [
    "df.to_csv('data/all-full-with_estimated_creation_date.csv.gz', index=False, compression='gzip')"
   ]
  },
  {
   "cell_type": "code",
   "execution_count": null,
   "metadata": {},
   "outputs": [],
   "source": []
  }
 ],
 "metadata": {
  "kernelspec": {
   "display_name": "Python 3",
   "language": "python",
   "name": "python3"
  },
  "language_info": {
   "codemirror_mode": {
    "name": "ipython",
    "version": 3
   },
   "file_extension": ".py",
   "mimetype": "text/x-python",
   "name": "python",
   "nbconvert_exporter": "python",
   "pygments_lexer": "ipython3",
   "version": "3.6.3"
  },
  "toc": {
   "base_numbering": 1,
   "nav_menu": {},
   "number_sections": true,
   "sideBar": true,
   "skip_h1_title": false,
   "title_cell": "Table of Contents",
   "title_sidebar": "Contents",
   "toc_cell": false,
   "toc_position": {},
   "toc_section_display": true,
   "toc_window_display": false
  }
 },
 "nbformat": 4,
 "nbformat_minor": 2
}
